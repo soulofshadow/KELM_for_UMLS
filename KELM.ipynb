{
  "nbformat": 4,
  "nbformat_minor": 0,
  "metadata": {
    "colab": {
      "provenance": [],
      "authorship_tag": "ABX9TyMvEky2liav3wdqELN6fI/S",
      "include_colab_link": true
    },
    "kernelspec": {
      "name": "python3",
      "display_name": "Python 3"
    },
    "language_info": {
      "name": "python"
    }
  },
  "cells": [
    {
      "cell_type": "markdown",
      "metadata": {
        "id": "view-in-github",
        "colab_type": "text"
      },
      "source": [
        "<a href=\"https://colab.research.google.com/github/soulofshadow/KELM_for_UMLS/blob/main/KELM.ipynb\" target=\"_parent\"><img src=\"https://colab.research.google.com/assets/colab-badge.svg\" alt=\"Open In Colab\"/></a>"
      ]
    },
    {
      "cell_type": "markdown",
      "source": [
        "## library and dataset"
      ],
      "metadata": {
        "id": "hIrsnAv4vHch"
      }
    },
    {
      "cell_type": "code",
      "source": [
        "from google.colab import drive\n",
        "drive.mount(\"/content/drive\")\n",
        "\n",
        "# Here is the path of the root dir of this folder in your google drive\n",
        "path=\"/content/drive/My Drive/Colab_Notebooks/KELM\"\n",
        "\n",
        "\n",
        "import os\n",
        "import sys\n",
        "os.chdir(path)\n",
        "sys.path.append(path)"
      ],
      "metadata": {
        "id": "VTLNhUIqd97z",
        "colab": {
          "base_uri": "https://localhost:8080/"
        },
        "outputId": "3dd78e99-5655-40a4-e46e-411c793e75c2"
      },
      "execution_count": 1,
      "outputs": [
        {
          "output_type": "stream",
          "name": "stdout",
          "text": [
            "Drive already mounted at /content/drive; to attempt to forcibly remount, call drive.mount(\"/content/drive\", force_remount=True).\n"
          ]
        }
      ]
    },
    {
      "cell_type": "code",
      "source": [
        "import torch\n",
        "import os\n",
        "import numpy as np\n",
        "import pandas as pd\n",
        "import json\n",
        "from tqdm import tqdm\n",
        "tqdm.pandas()\n",
        "\n",
        "dataset_path = os.path.join(path, \"data\")"
      ],
      "metadata": {
        "id": "aGkhHEt4vKh7"
      },
      "execution_count": 28,
      "outputs": []
    },
    {
      "cell_type": "markdown",
      "source": [
        "#### Load text datasets"
      ],
      "metadata": {
        "id": "xcntbxH5rRXs"
      }
    },
    {
      "cell_type": "code",
      "source": [
        "#get the text dataset\n",
        "\n",
        "'''\n",
        "Notice the dataset load here are in the shape of\n",
        "{ 'text': the original sentence\n",
        "  'entity': a list of entities extracted using MetaMap\n",
        "}\n",
        "\n",
        "each entity is a dict with {'cui': the cui identifier of this entity,\n",
        "                            'name': the name of this entity,\n",
        "                            'type': the type of this entity,\n",
        "                            'pos': the position of this entiy in the sentence\n",
        "                                for multiple apparence in the sentence, here only list one instance,\n",
        "                            'triger': the substring in the sentence which recognised as this entity\n",
        "                            }\n",
        "'''\n",
        "\n",
        "text_file = 'test.csv'\n",
        "text_path = os.path.join(dataset_path, text_file)\n",
        "\n",
        "sentences = pd.read_csv(text_path)\n",
        "sentences = sentences.drop(['Unnamed: 0'], axis = 1)\n",
        "\n",
        "# sentences = pd.read_csv(text_path, header=None, sep=\"\\t\")\n",
        "# sentences.columns = ['idk','text']\n",
        "# sentences = sentences.drop(['idk'], axis = 1)"
      ],
      "metadata": {
        "id": "WYbgnGQi6CV_"
      },
      "execution_count": null,
      "outputs": []
    },
    {
      "cell_type": "code",
      "source": [
        "sentences.head()"
      ],
      "metadata": {
        "id": "Yl9iToxsenVJ"
      },
      "execution_count": null,
      "outputs": []
    },
    {
      "cell_type": "code",
      "source": [
        "len(sentences)"
      ],
      "metadata": {
        "colab": {
          "base_uri": "https://localhost:8080/"
        },
        "id": "9hBeb2B8tIOM",
        "outputId": "09382d93-ce1e-4814-e5d9-8bb097264852"
      },
      "execution_count": 5,
      "outputs": [
        {
          "output_type": "execute_result",
          "data": {
            "text/plain": [
              "6385"
            ]
          },
          "metadata": {},
          "execution_count": 5
        }
      ]
    },
    {
      "cell_type": "code",
      "source": [
        "#idk why when I write the csv it turn None to nan, so here I transfer it back\n",
        "sentences['triplets'] = sentences['triplets'].where(sentences['triplets'].notnull(), None)\n",
        "#the entity default by pandas is string, turn to list of dict\n",
        "sentences['entity'] = sentences['entity'].apply(eval)"
      ],
      "metadata": {
        "id": "_ftpnEk6un_T"
      },
      "execution_count": null,
      "outputs": []
    },
    {
      "cell_type": "markdown",
      "source": [
        "#### if not have triplets.csv file, build triplets from umls"
      ],
      "metadata": {
        "id": "qQrPnNh1rURQ"
      }
    },
    {
      "cell_type": "code",
      "source": [
        "#get the umls\n",
        "#from the umls, MRREL.RRF file we can build the triplets\n",
        "from utils.load_umls import UMLS\n",
        "umls = UMLS(dataset_path)"
      ],
      "metadata": {
        "colab": {
          "base_uri": "https://localhost:8080/"
        },
        "id": "BdFi04sSjtyD",
        "outputId": "e41e4cb1-8054-442f-a878-aaa156023509"
      },
      "execution_count": 5,
      "outputs": [
        {
          "output_type": "stream",
          "name": "stderr",
          "text": [
            "8751471it [02:22, 61570.64it/s]\n"
          ]
        },
        {
          "output_type": "stream",
          "name": "stdout",
          "text": [
            "cui count: 3695485\n",
            "str2cui count: 13396819\n",
            "MRCONSO count: 6131827\n"
          ]
        },
        {
          "output_type": "stream",
          "name": "stderr",
          "text": [
            "25369590it [02:33, 165162.42it/s]\n"
          ]
        },
        {
          "output_type": "stream",
          "name": "stdout",
          "text": [
            "rel count: 18702888\n"
          ]
        },
        {
          "output_type": "stream",
          "name": "stderr",
          "text": [
            "4010842it [00:18, 216076.72it/s]"
          ]
        },
        {
          "output_type": "stream",
          "name": "stdout",
          "text": [
            "sty count: 3695485\n"
          ]
        },
        {
          "output_type": "stream",
          "name": "stderr",
          "text": [
            "\n"
          ]
        }
      ]
    },
    {
      "cell_type": "code",
      "source": [
        "#build the triplets\n",
        "triplets = []\n",
        "\n",
        "for rel in umls.rel:\n",
        "    triplet = rel.strip().split(\"\\t\")\n",
        "    if len(triplet) != 4:\n",
        "        continue;\n",
        "    \n",
        "    sub = triplet[0]\n",
        "    obj= triplet[1]\n",
        "    relation = triplet[3]\n",
        "\n",
        "    tri = [sub, obj, relation]\n",
        "    triplets.append(tri)\n",
        "\n",
        "print(\"triplets count:\", len(triplets))"
      ],
      "metadata": {
        "id": "-dSOSKRfG-Vd",
        "colab": {
          "base_uri": "https://localhost:8080/"
        },
        "outputId": "5c3bb98a-28c8-458d-ce29-9adebd1071ad"
      },
      "execution_count": 6,
      "outputs": [
        {
          "output_type": "stream",
          "name": "stdout",
          "text": [
            "triplets count: 11110308\n"
          ]
        }
      ]
    },
    {
      "cell_type": "code",
      "source": [
        "triplets = pd.DataFrame(triplets)"
      ],
      "metadata": {
        "id": "00I5GntbuBEW"
      },
      "execution_count": 8,
      "outputs": []
    },
    {
      "cell_type": "code",
      "source": [
        "triplets.columns = ['subject', 'object', 'relation']\n",
        "triplets.drop_duplicates()\n",
        "\n",
        "triplets.to_csv('triplets.csv')"
      ],
      "metadata": {
        "id": "s1Gcl4QauHEN"
      },
      "execution_count": 9,
      "outputs": []
    },
    {
      "cell_type": "markdown",
      "source": [
        "#### Load triplets"
      ],
      "metadata": {
        "id": "JNgFarupsN3V"
      }
    },
    {
      "cell_type": "code",
      "source": [
        "#get triplets\n",
        "text_file = 'triplets.csv'\n",
        "text_path = os.path.join(dataset_path, text_file)\n",
        "\n",
        "triplets = pd.read_csv(text_path)\n",
        "triplets = triplets.drop(['Unnamed: 0'], axis = 1)"
      ],
      "metadata": {
        "id": "KzR8VrkHvjsO"
      },
      "execution_count": 6,
      "outputs": []
    },
    {
      "cell_type": "code",
      "source": [
        "triplets.head()"
      ],
      "metadata": {
        "colab": {
          "base_uri": "https://localhost:8080/",
          "height": 204
        },
        "id": "j7KDJZFEopsl",
        "outputId": "2ba8077f-60c6-44ac-de8c-cb6342a8f8cd"
      },
      "execution_count": 7,
      "outputs": [
        {
          "output_type": "execute_result",
          "data": {
            "text/plain": [
              "    subject    object                 relation\n",
              "0  C2347441  C4762419           has_ingredient\n",
              "1  C0022877  C0803531                has_class\n",
              "2  C0301042  C3160584  has_inactive_ingredient\n",
              "3  C0027530  C1953956               has_system\n",
              "4  C0040300  C1507501               has_system"
            ],
            "text/html": [
              "\n",
              "  <div id=\"df-aac80f34-30a9-440d-98bb-deaa58f47acc\">\n",
              "    <div class=\"colab-df-container\">\n",
              "      <div>\n",
              "<style scoped>\n",
              "    .dataframe tbody tr th:only-of-type {\n",
              "        vertical-align: middle;\n",
              "    }\n",
              "\n",
              "    .dataframe tbody tr th {\n",
              "        vertical-align: top;\n",
              "    }\n",
              "\n",
              "    .dataframe thead th {\n",
              "        text-align: right;\n",
              "    }\n",
              "</style>\n",
              "<table border=\"1\" class=\"dataframe\">\n",
              "  <thead>\n",
              "    <tr style=\"text-align: right;\">\n",
              "      <th></th>\n",
              "      <th>subject</th>\n",
              "      <th>object</th>\n",
              "      <th>relation</th>\n",
              "    </tr>\n",
              "  </thead>\n",
              "  <tbody>\n",
              "    <tr>\n",
              "      <th>0</th>\n",
              "      <td>C2347441</td>\n",
              "      <td>C4762419</td>\n",
              "      <td>has_ingredient</td>\n",
              "    </tr>\n",
              "    <tr>\n",
              "      <th>1</th>\n",
              "      <td>C0022877</td>\n",
              "      <td>C0803531</td>\n",
              "      <td>has_class</td>\n",
              "    </tr>\n",
              "    <tr>\n",
              "      <th>2</th>\n",
              "      <td>C0301042</td>\n",
              "      <td>C3160584</td>\n",
              "      <td>has_inactive_ingredient</td>\n",
              "    </tr>\n",
              "    <tr>\n",
              "      <th>3</th>\n",
              "      <td>C0027530</td>\n",
              "      <td>C1953956</td>\n",
              "      <td>has_system</td>\n",
              "    </tr>\n",
              "    <tr>\n",
              "      <th>4</th>\n",
              "      <td>C0040300</td>\n",
              "      <td>C1507501</td>\n",
              "      <td>has_system</td>\n",
              "    </tr>\n",
              "  </tbody>\n",
              "</table>\n",
              "</div>\n",
              "      <button class=\"colab-df-convert\" onclick=\"convertToInteractive('df-aac80f34-30a9-440d-98bb-deaa58f47acc')\"\n",
              "              title=\"Convert this dataframe to an interactive table.\"\n",
              "              style=\"display:none;\">\n",
              "        \n",
              "  <svg xmlns=\"http://www.w3.org/2000/svg\" height=\"24px\"viewBox=\"0 0 24 24\"\n",
              "       width=\"24px\">\n",
              "    <path d=\"M0 0h24v24H0V0z\" fill=\"none\"/>\n",
              "    <path d=\"M18.56 5.44l.94 2.06.94-2.06 2.06-.94-2.06-.94-.94-2.06-.94 2.06-2.06.94zm-11 1L8.5 8.5l.94-2.06 2.06-.94-2.06-.94L8.5 2.5l-.94 2.06-2.06.94zm10 10l.94 2.06.94-2.06 2.06-.94-2.06-.94-.94-2.06-.94 2.06-2.06.94z\"/><path d=\"M17.41 7.96l-1.37-1.37c-.4-.4-.92-.59-1.43-.59-.52 0-1.04.2-1.43.59L10.3 9.45l-7.72 7.72c-.78.78-.78 2.05 0 2.83L4 21.41c.39.39.9.59 1.41.59.51 0 1.02-.2 1.41-.59l7.78-7.78 2.81-2.81c.8-.78.8-2.07 0-2.86zM5.41 20L4 18.59l7.72-7.72 1.47 1.35L5.41 20z\"/>\n",
              "  </svg>\n",
              "      </button>\n",
              "      \n",
              "  <style>\n",
              "    .colab-df-container {\n",
              "      display:flex;\n",
              "      flex-wrap:wrap;\n",
              "      gap: 12px;\n",
              "    }\n",
              "\n",
              "    .colab-df-convert {\n",
              "      background-color: #E8F0FE;\n",
              "      border: none;\n",
              "      border-radius: 50%;\n",
              "      cursor: pointer;\n",
              "      display: none;\n",
              "      fill: #1967D2;\n",
              "      height: 32px;\n",
              "      padding: 0 0 0 0;\n",
              "      width: 32px;\n",
              "    }\n",
              "\n",
              "    .colab-df-convert:hover {\n",
              "      background-color: #E2EBFA;\n",
              "      box-shadow: 0px 1px 2px rgba(60, 64, 67, 0.3), 0px 1px 3px 1px rgba(60, 64, 67, 0.15);\n",
              "      fill: #174EA6;\n",
              "    }\n",
              "\n",
              "    [theme=dark] .colab-df-convert {\n",
              "      background-color: #3B4455;\n",
              "      fill: #D2E3FC;\n",
              "    }\n",
              "\n",
              "    [theme=dark] .colab-df-convert:hover {\n",
              "      background-color: #434B5C;\n",
              "      box-shadow: 0px 1px 3px 1px rgba(0, 0, 0, 0.15);\n",
              "      filter: drop-shadow(0px 1px 2px rgba(0, 0, 0, 0.3));\n",
              "      fill: #FFFFFF;\n",
              "    }\n",
              "  </style>\n",
              "\n",
              "      <script>\n",
              "        const buttonEl =\n",
              "          document.querySelector('#df-aac80f34-30a9-440d-98bb-deaa58f47acc button.colab-df-convert');\n",
              "        buttonEl.style.display =\n",
              "          google.colab.kernel.accessAllowed ? 'block' : 'none';\n",
              "\n",
              "        async function convertToInteractive(key) {\n",
              "          const element = document.querySelector('#df-aac80f34-30a9-440d-98bb-deaa58f47acc');\n",
              "          const dataTable =\n",
              "            await google.colab.kernel.invokeFunction('convertToInteractive',\n",
              "                                                     [key], {});\n",
              "          if (!dataTable) return;\n",
              "\n",
              "          const docLinkHtml = 'Like what you see? Visit the ' +\n",
              "            '<a target=\"_blank\" href=https://colab.research.google.com/notebooks/data_table.ipynb>data table notebook</a>'\n",
              "            + ' to learn more about interactive tables.';\n",
              "          element.innerHTML = '';\n",
              "          dataTable['output_type'] = 'display_data';\n",
              "          await google.colab.output.renderOutput(dataTable, element);\n",
              "          const docLink = document.createElement('div');\n",
              "          docLink.innerHTML = docLinkHtml;\n",
              "          element.appendChild(docLink);\n",
              "        }\n",
              "      </script>\n",
              "    </div>\n",
              "  </div>\n",
              "  "
            ]
          },
          "metadata": {},
          "execution_count": 7
        }
      ]
    },
    {
      "cell_type": "markdown",
      "source": [
        "### Align"
      ],
      "metadata": {
        "id": "1cN9yZHMnuK6"
      }
    },
    {
      "cell_type": "code",
      "source": [
        "#transfer from str CUI to int CUI\n",
        "#like \"C1022345\" to 1022345\n",
        "\n",
        "def tran_to_index(x):\n",
        "    return int(x[1:])"
      ],
      "metadata": {
        "id": "_bvx-oWXm95i"
      },
      "execution_count": 8,
      "outputs": []
    },
    {
      "cell_type": "code",
      "source": [
        "triplets['subject'] = triplets['subject'].map(tran_to_index)\n",
        "triplets['object'] = triplets['object'].map(tran_to_index)"
      ],
      "metadata": {
        "id": "ujnGvivJvDSN"
      },
      "execution_count": 9,
      "outputs": []
    },
    {
      "cell_type": "code",
      "source": [
        "triplets.head()"
      ],
      "metadata": {
        "id": "ciKgCyjiox_R",
        "colab": {
          "base_uri": "https://localhost:8080/",
          "height": 204
        },
        "outputId": "be652efb-ba32-4130-80f6-f02c7b26c22b"
      },
      "execution_count": 11,
      "outputs": [
        {
          "output_type": "execute_result",
          "data": {
            "text/plain": [
              "   subject   object                 relation\n",
              "0  2347441  4762419           has_ingredient\n",
              "1    22877   803531                has_class\n",
              "2   301042  3160584  has_inactive_ingredient\n",
              "3    27530  1953956               has_system\n",
              "4    40300  1507501               has_system"
            ],
            "text/html": [
              "\n",
              "  <div id=\"df-98d80e5e-87f5-4641-8e40-136721ae2c94\">\n",
              "    <div class=\"colab-df-container\">\n",
              "      <div>\n",
              "<style scoped>\n",
              "    .dataframe tbody tr th:only-of-type {\n",
              "        vertical-align: middle;\n",
              "    }\n",
              "\n",
              "    .dataframe tbody tr th {\n",
              "        vertical-align: top;\n",
              "    }\n",
              "\n",
              "    .dataframe thead th {\n",
              "        text-align: right;\n",
              "    }\n",
              "</style>\n",
              "<table border=\"1\" class=\"dataframe\">\n",
              "  <thead>\n",
              "    <tr style=\"text-align: right;\">\n",
              "      <th></th>\n",
              "      <th>subject</th>\n",
              "      <th>object</th>\n",
              "      <th>relation</th>\n",
              "    </tr>\n",
              "  </thead>\n",
              "  <tbody>\n",
              "    <tr>\n",
              "      <th>0</th>\n",
              "      <td>2347441</td>\n",
              "      <td>4762419</td>\n",
              "      <td>has_ingredient</td>\n",
              "    </tr>\n",
              "    <tr>\n",
              "      <th>1</th>\n",
              "      <td>22877</td>\n",
              "      <td>803531</td>\n",
              "      <td>has_class</td>\n",
              "    </tr>\n",
              "    <tr>\n",
              "      <th>2</th>\n",
              "      <td>301042</td>\n",
              "      <td>3160584</td>\n",
              "      <td>has_inactive_ingredient</td>\n",
              "    </tr>\n",
              "    <tr>\n",
              "      <th>3</th>\n",
              "      <td>27530</td>\n",
              "      <td>1953956</td>\n",
              "      <td>has_system</td>\n",
              "    </tr>\n",
              "    <tr>\n",
              "      <th>4</th>\n",
              "      <td>40300</td>\n",
              "      <td>1507501</td>\n",
              "      <td>has_system</td>\n",
              "    </tr>\n",
              "  </tbody>\n",
              "</table>\n",
              "</div>\n",
              "      <button class=\"colab-df-convert\" onclick=\"convertToInteractive('df-98d80e5e-87f5-4641-8e40-136721ae2c94')\"\n",
              "              title=\"Convert this dataframe to an interactive table.\"\n",
              "              style=\"display:none;\">\n",
              "        \n",
              "  <svg xmlns=\"http://www.w3.org/2000/svg\" height=\"24px\"viewBox=\"0 0 24 24\"\n",
              "       width=\"24px\">\n",
              "    <path d=\"M0 0h24v24H0V0z\" fill=\"none\"/>\n",
              "    <path d=\"M18.56 5.44l.94 2.06.94-2.06 2.06-.94-2.06-.94-.94-2.06-.94 2.06-2.06.94zm-11 1L8.5 8.5l.94-2.06 2.06-.94-2.06-.94L8.5 2.5l-.94 2.06-2.06.94zm10 10l.94 2.06.94-2.06 2.06-.94-2.06-.94-.94-2.06-.94 2.06-2.06.94z\"/><path d=\"M17.41 7.96l-1.37-1.37c-.4-.4-.92-.59-1.43-.59-.52 0-1.04.2-1.43.59L10.3 9.45l-7.72 7.72c-.78.78-.78 2.05 0 2.83L4 21.41c.39.39.9.59 1.41.59.51 0 1.02-.2 1.41-.59l7.78-7.78 2.81-2.81c.8-.78.8-2.07 0-2.86zM5.41 20L4 18.59l7.72-7.72 1.47 1.35L5.41 20z\"/>\n",
              "  </svg>\n",
              "      </button>\n",
              "      \n",
              "  <style>\n",
              "    .colab-df-container {\n",
              "      display:flex;\n",
              "      flex-wrap:wrap;\n",
              "      gap: 12px;\n",
              "    }\n",
              "\n",
              "    .colab-df-convert {\n",
              "      background-color: #E8F0FE;\n",
              "      border: none;\n",
              "      border-radius: 50%;\n",
              "      cursor: pointer;\n",
              "      display: none;\n",
              "      fill: #1967D2;\n",
              "      height: 32px;\n",
              "      padding: 0 0 0 0;\n",
              "      width: 32px;\n",
              "    }\n",
              "\n",
              "    .colab-df-convert:hover {\n",
              "      background-color: #E2EBFA;\n",
              "      box-shadow: 0px 1px 2px rgba(60, 64, 67, 0.3), 0px 1px 3px 1px rgba(60, 64, 67, 0.15);\n",
              "      fill: #174EA6;\n",
              "    }\n",
              "\n",
              "    [theme=dark] .colab-df-convert {\n",
              "      background-color: #3B4455;\n",
              "      fill: #D2E3FC;\n",
              "    }\n",
              "\n",
              "    [theme=dark] .colab-df-convert:hover {\n",
              "      background-color: #434B5C;\n",
              "      box-shadow: 0px 1px 3px 1px rgba(0, 0, 0, 0.15);\n",
              "      filter: drop-shadow(0px 1px 2px rgba(0, 0, 0, 0.3));\n",
              "      fill: #FFFFFF;\n",
              "    }\n",
              "  </style>\n",
              "\n",
              "      <script>\n",
              "        const buttonEl =\n",
              "          document.querySelector('#df-98d80e5e-87f5-4641-8e40-136721ae2c94 button.colab-df-convert');\n",
              "        buttonEl.style.display =\n",
              "          google.colab.kernel.accessAllowed ? 'block' : 'none';\n",
              "\n",
              "        async function convertToInteractive(key) {\n",
              "          const element = document.querySelector('#df-98d80e5e-87f5-4641-8e40-136721ae2c94');\n",
              "          const dataTable =\n",
              "            await google.colab.kernel.invokeFunction('convertToInteractive',\n",
              "                                                     [key], {});\n",
              "          if (!dataTable) return;\n",
              "\n",
              "          const docLinkHtml = 'Like what you see? Visit the ' +\n",
              "            '<a target=\"_blank\" href=https://colab.research.google.com/notebooks/data_table.ipynb>data table notebook</a>'\n",
              "            + ' to learn more about interactive tables.';\n",
              "          element.innerHTML = '';\n",
              "          dataTable['output_type'] = 'display_data';\n",
              "          await google.colab.output.renderOutput(dataTable, element);\n",
              "          const docLink = document.createElement('div');\n",
              "          docLink.innerHTML = docLinkHtml;\n",
              "          element.appendChild(docLink);\n",
              "        }\n",
              "      </script>\n",
              "    </div>\n",
              "  </div>\n",
              "  "
            ]
          },
          "metadata": {},
          "execution_count": 11
        }
      ]
    },
    {
      "cell_type": "code",
      "source": [
        "#transfer it to dict of shape\n",
        "'''\n",
        "{(subject, object): relation}\n",
        "'''\n",
        "dict_triplets = dict(zip(zip(triplets['subject'], triplets['object']), triplets['relation']))"
      ],
      "metadata": {
        "id": "5bYO24_g0yhP"
      },
      "execution_count": 51,
      "outputs": []
    },
    {
      "cell_type": "code",
      "source": [
        "def find_triplets(entities, triplets):\n",
        "\n",
        "    if triplets is not None:\n",
        "        return triplets\n",
        "\n",
        "    #also do str CUI to int CUI for entity of text\n",
        "    for entity in entities:\n",
        "        if not isinstance(entity['cui'],int):\n",
        "            entity['cui'] = tran_to_index(entity['cui'])\n",
        "\n",
        "    aligned_triplets = []\n",
        "    for entity1 in entities:\n",
        "        for entity2 in entities:\n",
        "            # we use a pair of entitis to detect whether they have a relation in the UMLS triplets\n",
        "            if entity1['cui'] != entity2['cui']:\n",
        "                if (entity1['cui'], entity2['cui']) in dict_triplets.keys():\n",
        "                    aligned_triplets.append((entity1['name'], entity2['name'], dict_triplets[(entity1['cui'], entity2['cui'])]))\n",
        "\n",
        "    return aligned_triplets"
      ],
      "metadata": {
        "id": "mf_85i5OuQ8B"
      },
      "execution_count": 63,
      "outputs": []
    },
    {
      "cell_type": "code",
      "source": [
        "sentences['triplets'] = sentences.progress_apply(lambda x: find_triplets(x['entity'], x['triplets']), axis = 1)"
      ],
      "metadata": {
        "colab": {
          "base_uri": "https://localhost:8080/"
        },
        "id": "V65gnKKcutJj",
        "outputId": "ddc9e219-93c9-4df5-e87e-c3521f6dfc33"
      },
      "execution_count": 64,
      "outputs": [
        {
          "output_type": "stream",
          "name": "stderr",
          "text": [
            "100%|██████████| 1/1 [00:00<00:00, 60.70it/s]\n"
          ]
        }
      ]
    },
    {
      "cell_type": "code",
      "source": [
        "sentences"
      ],
      "metadata": {
        "colab": {
          "base_uri": "https://localhost:8080/",
          "height": 1118
        },
        "id": "Has2SP-p3UyS",
        "outputId": "3473d53b-1d64-4859-b611-b4095821684b"
      },
      "execution_count": 67,
      "outputs": [
        {
          "output_type": "execute_result",
          "data": {
            "text/plain": [
              "                                                text  \\\n",
              "0  The hepatic ultrastructural aspect and the hep...   \n",
              "\n",
              "                                              entity  \\\n",
              "0  [{'cui': 41623, 'name': 'Ultrastructure', 'typ...   \n",
              "\n",
              "                                            triplets  \n",
              "0  [(Anemia, Hemolytic, Chronic hemolytic anemia,...  "
            ],
            "text/html": [
              "\n",
              "  <div id=\"df-188fe681-84f9-4b5d-a74e-1549edcc6238\">\n",
              "    <div class=\"colab-df-container\">\n",
              "      <div>\n",
              "<style scoped>\n",
              "    .dataframe tbody tr th:only-of-type {\n",
              "        vertical-align: middle;\n",
              "    }\n",
              "\n",
              "    .dataframe tbody tr th {\n",
              "        vertical-align: top;\n",
              "    }\n",
              "\n",
              "    .dataframe thead th {\n",
              "        text-align: right;\n",
              "    }\n",
              "</style>\n",
              "<table border=\"1\" class=\"dataframe\">\n",
              "  <thead>\n",
              "    <tr style=\"text-align: right;\">\n",
              "      <th></th>\n",
              "      <th>text</th>\n",
              "      <th>entity</th>\n",
              "      <th>triplets</th>\n",
              "    </tr>\n",
              "  </thead>\n",
              "  <tbody>\n",
              "    <tr>\n",
              "      <th>0</th>\n",
              "      <td>The hepatic ultrastructural aspect and the hep...</td>\n",
              "      <td>[{'cui': 41623, 'name': 'Ultrastructure', 'typ...</td>\n",
              "      <td>[(Anemia, Hemolytic, Chronic hemolytic anemia,...</td>\n",
              "    </tr>\n",
              "  </tbody>\n",
              "</table>\n",
              "</div>\n",
              "      <button class=\"colab-df-convert\" onclick=\"convertToInteractive('df-188fe681-84f9-4b5d-a74e-1549edcc6238')\"\n",
              "              title=\"Convert this dataframe to an interactive table.\"\n",
              "              style=\"display:none;\">\n",
              "        \n",
              "  <svg xmlns=\"http://www.w3.org/2000/svg\" height=\"24px\"viewBox=\"0 0 24 24\"\n",
              "       width=\"24px\">\n",
              "    <path d=\"M0 0h24v24H0V0z\" fill=\"none\"/>\n",
              "    <path d=\"M18.56 5.44l.94 2.06.94-2.06 2.06-.94-2.06-.94-.94-2.06-.94 2.06-2.06.94zm-11 1L8.5 8.5l.94-2.06 2.06-.94-2.06-.94L8.5 2.5l-.94 2.06-2.06.94zm10 10l.94 2.06.94-2.06 2.06-.94-2.06-.94-.94-2.06-.94 2.06-2.06.94z\"/><path d=\"M17.41 7.96l-1.37-1.37c-.4-.4-.92-.59-1.43-.59-.52 0-1.04.2-1.43.59L10.3 9.45l-7.72 7.72c-.78.78-.78 2.05 0 2.83L4 21.41c.39.39.9.59 1.41.59.51 0 1.02-.2 1.41-.59l7.78-7.78 2.81-2.81c.8-.78.8-2.07 0-2.86zM5.41 20L4 18.59l7.72-7.72 1.47 1.35L5.41 20z\"/>\n",
              "  </svg>\n",
              "      </button>\n",
              "      \n",
              "  <style>\n",
              "    .colab-df-container {\n",
              "      display:flex;\n",
              "      flex-wrap:wrap;\n",
              "      gap: 12px;\n",
              "    }\n",
              "\n",
              "    .colab-df-convert {\n",
              "      background-color: #E8F0FE;\n",
              "      border: none;\n",
              "      border-radius: 50%;\n",
              "      cursor: pointer;\n",
              "      display: none;\n",
              "      fill: #1967D2;\n",
              "      height: 32px;\n",
              "      padding: 0 0 0 0;\n",
              "      width: 32px;\n",
              "    }\n",
              "\n",
              "    .colab-df-convert:hover {\n",
              "      background-color: #E2EBFA;\n",
              "      box-shadow: 0px 1px 2px rgba(60, 64, 67, 0.3), 0px 1px 3px 1px rgba(60, 64, 67, 0.15);\n",
              "      fill: #174EA6;\n",
              "    }\n",
              "\n",
              "    [theme=dark] .colab-df-convert {\n",
              "      background-color: #3B4455;\n",
              "      fill: #D2E3FC;\n",
              "    }\n",
              "\n",
              "    [theme=dark] .colab-df-convert:hover {\n",
              "      background-color: #434B5C;\n",
              "      box-shadow: 0px 1px 3px 1px rgba(0, 0, 0, 0.15);\n",
              "      filter: drop-shadow(0px 1px 2px rgba(0, 0, 0, 0.3));\n",
              "      fill: #FFFFFF;\n",
              "    }\n",
              "  </style>\n",
              "\n",
              "      <script>\n",
              "        const buttonEl =\n",
              "          document.querySelector('#df-188fe681-84f9-4b5d-a74e-1549edcc6238 button.colab-df-convert');\n",
              "        buttonEl.style.display =\n",
              "          google.colab.kernel.accessAllowed ? 'block' : 'none';\n",
              "\n",
              "        async function convertToInteractive(key) {\n",
              "          const element = document.querySelector('#df-188fe681-84f9-4b5d-a74e-1549edcc6238');\n",
              "          const dataTable =\n",
              "            await google.colab.kernel.invokeFunction('convertToInteractive',\n",
              "                                                     [key], {});\n",
              "          if (!dataTable) return;\n",
              "\n",
              "          const docLinkHtml = 'Like what you see? Visit the ' +\n",
              "            '<a target=\"_blank\" href=https://colab.research.google.com/notebooks/data_table.ipynb>data table notebook</a>'\n",
              "            + ' to learn more about interactive tables.';\n",
              "          element.innerHTML = '';\n",
              "          dataTable['output_type'] = 'display_data';\n",
              "          await google.colab.output.renderOutput(dataTable, element);\n",
              "          const docLink = document.createElement('div');\n",
              "          docLink.innerHTML = docLinkHtml;\n",
              "          element.appendChild(docLink);\n",
              "        }\n",
              "      </script>\n",
              "    </div>\n",
              "  </div>\n",
              "  "
            ]
          },
          "metadata": {},
          "execution_count": 67
        }
      ]
    }
  ]
}