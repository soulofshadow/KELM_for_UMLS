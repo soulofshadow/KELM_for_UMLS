{
  "nbformat": 4,
  "nbformat_minor": 0,
  "metadata": {
    "colab": {
      "provenance": [],
      "collapsed_sections": [
        "xcntbxH5rRXs",
        "qQrPnNh1rURQ",
        "JNgFarupsN3V",
        "1cN9yZHMnuK6",
        "AR-nlv-vgoj_",
        "FeIZu4OBgvVr",
        "7i6Tc0qg6n-M"
      ],
      "toc_visible": true,
      "authorship_tag": "ABX9TyOBe7URhfNJlCis89+IEm8r",
      "include_colab_link": true
    },
    "kernelspec": {
      "name": "python3",
      "display_name": "Python 3"
    },
    "language_info": {
      "name": "python"
    }
  },
  "cells": [
    {
      "cell_type": "markdown",
      "metadata": {
        "id": "view-in-github",
        "colab_type": "text"
      },
      "source": [
        "<a href=\"https://colab.research.google.com/github/soulofshadow/KELM_for_UMLS/blob/main/KELM.ipynb\" target=\"_parent\"><img src=\"https://colab.research.google.com/assets/colab-badge.svg\" alt=\"Open In Colab\"/></a>"
      ]
    },
    {
      "cell_type": "markdown",
      "source": [
        "## library and dataset"
      ],
      "metadata": {
        "id": "hIrsnAv4vHch"
      }
    },
    {
      "cell_type": "code",
      "source": [
        "from google.colab import drive\n",
        "drive.mount(\"/content/drive\")\n",
        "\n",
        "# Here is the path of the root dir of this folder in your google drive\n",
        "path=\"/content/drive/My Drive/Colab_Notebooks/KELM\"\n",
        "\n",
        "\n",
        "import os\n",
        "import sys\n",
        "os.chdir(path)\n",
        "sys.path.append(path)"
      ],
      "metadata": {
        "id": "VTLNhUIqd97z",
        "colab": {
          "base_uri": "https://localhost:8080/"
        },
        "outputId": "e590120a-4a78-45ea-e964-77f549194b07"
      },
      "execution_count": 1,
      "outputs": [
        {
          "output_type": "stream",
          "name": "stdout",
          "text": [
            "Drive already mounted at /content/drive; to attempt to forcibly remount, call drive.mount(\"/content/drive\", force_remount=True).\n"
          ]
        }
      ]
    },
    {
      "cell_type": "code",
      "source": [
        "import torch\n",
        "import os\n",
        "import numpy as np\n",
        "import pandas as pd\n",
        "import json\n",
        "import random\n",
        "import copy\n",
        "from tqdm import tqdm\n",
        "tqdm.pandas()\n",
        "\n",
        "dataset_path = os.path.join(path, \"data\")"
      ],
      "metadata": {
        "id": "aGkhHEt4vKh7"
      },
      "execution_count": 2,
      "outputs": []
    },
    {
      "cell_type": "markdown",
      "source": [
        "#### Load text datasets"
      ],
      "metadata": {
        "id": "xcntbxH5rRXs"
      }
    },
    {
      "cell_type": "code",
      "source": [
        "#get the text dataset\n",
        "\n",
        "'''\n",
        "Notice the dataset load here are in the shape of\n",
        "{ 'text': the original sentence\n",
        "  'entity': a list of entities extracted using MetaMap\n",
        "}\n",
        "\n",
        "each entity is a dict with {'cui': the cui identifier of this entity,\n",
        "                            'name': the name of this entity,\n",
        "                            'type': the type of this entity,\n",
        "                            'pos': the position of this entiy in the sentence\n",
        "                                for multiple apparence in the sentence, here only list one instance,\n",
        "                            'triger': the substring in the sentence which recognised as this entity\n",
        "                            }\n",
        "'''\n",
        "\n",
        "text_file = 'sentences.csv'\n",
        "text_path = os.path.join(dataset_path, text_file)\n",
        "\n",
        "sentences = pd.read_csv(text_path)\n",
        "sentences = sentences.drop(['Unnamed: 0'], axis = 1)\n",
        "\n",
        "# sentences = pd.read_csv(text_path, header=None, sep=\"\\t\")\n",
        "# sentences.columns = ['idk','text']\n",
        "# sentences = sentences.drop(['idk'], axis = 1)"
      ],
      "metadata": {
        "id": "WYbgnGQi6CV_"
      },
      "execution_count": 3,
      "outputs": []
    },
    {
      "cell_type": "code",
      "source": [
        "sentences.head()"
      ],
      "metadata": {
        "id": "Yl9iToxsenVJ",
        "colab": {
          "base_uri": "https://localhost:8080/",
          "height": 204
        },
        "outputId": "569fc35d-3b10-4498-d462-25a2c67d39cf"
      },
      "execution_count": 4,
      "outputs": [
        {
          "output_type": "execute_result",
          "data": {
            "text/plain": [
              "                                                text  \\\n",
              "0  The hepatic ultrastructural aspect and the hep...   \n",
              "1  The group G streptococcus may be a more common...   \n",
              "2  Effects of a 24 hour fast were studied in 21 o...   \n",
              "3  The present study has been undertaken to elici...   \n",
              "4  Selected androgenic and nonandrogenic steroids...   \n",
              "\n",
              "                                              entity  \n",
              "0  [{'cui': 'C0041623', 'name': 'Ultrastructure',...  \n",
              "1  [{'cui': 'C0014118', 'name': 'Endocarditis', '...  \n",
              "2  [{'cui': 'C0028754', 'name': 'Obesity', 'type'...  \n",
              "3  [{'cui': 'C0342895', 'name': 'Fish-Eye Disease...  \n",
              "4  [{'cui': 'C0002844', 'name': 'Androgens', 'typ...  "
            ],
            "text/html": [
              "\n",
              "  <div id=\"df-f487bb51-b280-4fd9-918a-0704b3d87f98\">\n",
              "    <div class=\"colab-df-container\">\n",
              "      <div>\n",
              "<style scoped>\n",
              "    .dataframe tbody tr th:only-of-type {\n",
              "        vertical-align: middle;\n",
              "    }\n",
              "\n",
              "    .dataframe tbody tr th {\n",
              "        vertical-align: top;\n",
              "    }\n",
              "\n",
              "    .dataframe thead th {\n",
              "        text-align: right;\n",
              "    }\n",
              "</style>\n",
              "<table border=\"1\" class=\"dataframe\">\n",
              "  <thead>\n",
              "    <tr style=\"text-align: right;\">\n",
              "      <th></th>\n",
              "      <th>text</th>\n",
              "      <th>entity</th>\n",
              "    </tr>\n",
              "  </thead>\n",
              "  <tbody>\n",
              "    <tr>\n",
              "      <th>0</th>\n",
              "      <td>The hepatic ultrastructural aspect and the hep...</td>\n",
              "      <td>[{'cui': 'C0041623', 'name': 'Ultrastructure',...</td>\n",
              "    </tr>\n",
              "    <tr>\n",
              "      <th>1</th>\n",
              "      <td>The group G streptococcus may be a more common...</td>\n",
              "      <td>[{'cui': 'C0014118', 'name': 'Endocarditis', '...</td>\n",
              "    </tr>\n",
              "    <tr>\n",
              "      <th>2</th>\n",
              "      <td>Effects of a 24 hour fast were studied in 21 o...</td>\n",
              "      <td>[{'cui': 'C0028754', 'name': 'Obesity', 'type'...</td>\n",
              "    </tr>\n",
              "    <tr>\n",
              "      <th>3</th>\n",
              "      <td>The present study has been undertaken to elici...</td>\n",
              "      <td>[{'cui': 'C0342895', 'name': 'Fish-Eye Disease...</td>\n",
              "    </tr>\n",
              "    <tr>\n",
              "      <th>4</th>\n",
              "      <td>Selected androgenic and nonandrogenic steroids...</td>\n",
              "      <td>[{'cui': 'C0002844', 'name': 'Androgens', 'typ...</td>\n",
              "    </tr>\n",
              "  </tbody>\n",
              "</table>\n",
              "</div>\n",
              "      <button class=\"colab-df-convert\" onclick=\"convertToInteractive('df-f487bb51-b280-4fd9-918a-0704b3d87f98')\"\n",
              "              title=\"Convert this dataframe to an interactive table.\"\n",
              "              style=\"display:none;\">\n",
              "        \n",
              "  <svg xmlns=\"http://www.w3.org/2000/svg\" height=\"24px\"viewBox=\"0 0 24 24\"\n",
              "       width=\"24px\">\n",
              "    <path d=\"M0 0h24v24H0V0z\" fill=\"none\"/>\n",
              "    <path d=\"M18.56 5.44l.94 2.06.94-2.06 2.06-.94-2.06-.94-.94-2.06-.94 2.06-2.06.94zm-11 1L8.5 8.5l.94-2.06 2.06-.94-2.06-.94L8.5 2.5l-.94 2.06-2.06.94zm10 10l.94 2.06.94-2.06 2.06-.94-2.06-.94-.94-2.06-.94 2.06-2.06.94z\"/><path d=\"M17.41 7.96l-1.37-1.37c-.4-.4-.92-.59-1.43-.59-.52 0-1.04.2-1.43.59L10.3 9.45l-7.72 7.72c-.78.78-.78 2.05 0 2.83L4 21.41c.39.39.9.59 1.41.59.51 0 1.02-.2 1.41-.59l7.78-7.78 2.81-2.81c.8-.78.8-2.07 0-2.86zM5.41 20L4 18.59l7.72-7.72 1.47 1.35L5.41 20z\"/>\n",
              "  </svg>\n",
              "      </button>\n",
              "      \n",
              "  <style>\n",
              "    .colab-df-container {\n",
              "      display:flex;\n",
              "      flex-wrap:wrap;\n",
              "      gap: 12px;\n",
              "    }\n",
              "\n",
              "    .colab-df-convert {\n",
              "      background-color: #E8F0FE;\n",
              "      border: none;\n",
              "      border-radius: 50%;\n",
              "      cursor: pointer;\n",
              "      display: none;\n",
              "      fill: #1967D2;\n",
              "      height: 32px;\n",
              "      padding: 0 0 0 0;\n",
              "      width: 32px;\n",
              "    }\n",
              "\n",
              "    .colab-df-convert:hover {\n",
              "      background-color: #E2EBFA;\n",
              "      box-shadow: 0px 1px 2px rgba(60, 64, 67, 0.3), 0px 1px 3px 1px rgba(60, 64, 67, 0.15);\n",
              "      fill: #174EA6;\n",
              "    }\n",
              "\n",
              "    [theme=dark] .colab-df-convert {\n",
              "      background-color: #3B4455;\n",
              "      fill: #D2E3FC;\n",
              "    }\n",
              "\n",
              "    [theme=dark] .colab-df-convert:hover {\n",
              "      background-color: #434B5C;\n",
              "      box-shadow: 0px 1px 3px 1px rgba(0, 0, 0, 0.15);\n",
              "      filter: drop-shadow(0px 1px 2px rgba(0, 0, 0, 0.3));\n",
              "      fill: #FFFFFF;\n",
              "    }\n",
              "  </style>\n",
              "\n",
              "      <script>\n",
              "        const buttonEl =\n",
              "          document.querySelector('#df-f487bb51-b280-4fd9-918a-0704b3d87f98 button.colab-df-convert');\n",
              "        buttonEl.style.display =\n",
              "          google.colab.kernel.accessAllowed ? 'block' : 'none';\n",
              "\n",
              "        async function convertToInteractive(key) {\n",
              "          const element = document.querySelector('#df-f487bb51-b280-4fd9-918a-0704b3d87f98');\n",
              "          const dataTable =\n",
              "            await google.colab.kernel.invokeFunction('convertToInteractive',\n",
              "                                                     [key], {});\n",
              "          if (!dataTable) return;\n",
              "\n",
              "          const docLinkHtml = 'Like what you see? Visit the ' +\n",
              "            '<a target=\"_blank\" href=https://colab.research.google.com/notebooks/data_table.ipynb>data table notebook</a>'\n",
              "            + ' to learn more about interactive tables.';\n",
              "          element.innerHTML = '';\n",
              "          dataTable['output_type'] = 'display_data';\n",
              "          await google.colab.output.renderOutput(dataTable, element);\n",
              "          const docLink = document.createElement('div');\n",
              "          docLink.innerHTML = docLinkHtml;\n",
              "          element.appendChild(docLink);\n",
              "        }\n",
              "      </script>\n",
              "    </div>\n",
              "  </div>\n",
              "  "
            ]
          },
          "metadata": {},
          "execution_count": 4
        }
      ]
    },
    {
      "cell_type": "code",
      "source": [
        "len(sentences)"
      ],
      "metadata": {
        "colab": {
          "base_uri": "https://localhost:8080/"
        },
        "id": "9hBeb2B8tIOM",
        "outputId": "270e2d2b-4efd-4cda-ad13-69a4e08e832b"
      },
      "execution_count": 5,
      "outputs": [
        {
          "output_type": "execute_result",
          "data": {
            "text/plain": [
              "50000"
            ]
          },
          "metadata": {},
          "execution_count": 5
        }
      ]
    },
    {
      "cell_type": "code",
      "source": [
        "#idk why when I write the csv it turn None to nan, so here I transfer it back\n",
        "sentences['triplet'] = None\n",
        "#sentences['triplet'] = sentences['triplets'].where(sentences['triplet'].notnull(), None)\n",
        "#the entity default by pandas is string, turn to list of dict\n",
        "sentences['entity'] = sentences['entity'].apply(eval)"
      ],
      "metadata": {
        "id": "_ftpnEk6un_T"
      },
      "execution_count": 6,
      "outputs": []
    },
    {
      "cell_type": "markdown",
      "source": [
        "#### if not have triplets.csv file, build triplets from umls"
      ],
      "metadata": {
        "id": "qQrPnNh1rURQ"
      }
    },
    {
      "cell_type": "code",
      "source": [
        "#get the umls\n",
        "#from the umls, MRREL.RRF file we can build the triplets\n",
        "from utils.load_umls import UMLS\n",
        "umls = UMLS(dataset_path)"
      ],
      "metadata": {
        "colab": {
          "base_uri": "https://localhost:8080/"
        },
        "id": "BdFi04sSjtyD",
        "outputId": "e41e4cb1-8054-442f-a878-aaa156023509"
      },
      "execution_count": null,
      "outputs": [
        {
          "output_type": "stream",
          "name": "stderr",
          "text": [
            "8751471it [02:22, 61570.64it/s]\n"
          ]
        },
        {
          "output_type": "stream",
          "name": "stdout",
          "text": [
            "cui count: 3695485\n",
            "str2cui count: 13396819\n",
            "MRCONSO count: 6131827\n"
          ]
        },
        {
          "output_type": "stream",
          "name": "stderr",
          "text": [
            "25369590it [02:33, 165162.42it/s]\n"
          ]
        },
        {
          "output_type": "stream",
          "name": "stdout",
          "text": [
            "rel count: 18702888\n"
          ]
        },
        {
          "output_type": "stream",
          "name": "stderr",
          "text": [
            "4010842it [00:18, 216076.72it/s]"
          ]
        },
        {
          "output_type": "stream",
          "name": "stdout",
          "text": [
            "sty count: 3695485\n"
          ]
        },
        {
          "output_type": "stream",
          "name": "stderr",
          "text": [
            "\n"
          ]
        }
      ]
    },
    {
      "cell_type": "code",
      "source": [
        "#build the triplets\n",
        "triplets = []\n",
        "\n",
        "for rel in umls.rel:\n",
        "    triplet = rel.strip().split(\"\\t\")\n",
        "    if len(triplet) != 4:\n",
        "        continue;\n",
        "    \n",
        "    sub = triplet[0]\n",
        "    obj= triplet[1]\n",
        "    relation = triplet[3]\n",
        "\n",
        "    tri = [sub, obj, relation]\n",
        "    triplets.append(tri)\n",
        "\n",
        "print(\"triplets count:\", len(triplets))"
      ],
      "metadata": {
        "id": "-dSOSKRfG-Vd",
        "colab": {
          "base_uri": "https://localhost:8080/"
        },
        "outputId": "5c3bb98a-28c8-458d-ce29-9adebd1071ad"
      },
      "execution_count": null,
      "outputs": [
        {
          "output_type": "stream",
          "name": "stdout",
          "text": [
            "triplets count: 11110308\n"
          ]
        }
      ]
    },
    {
      "cell_type": "code",
      "source": [
        "triplets = pd.DataFrame(triplets)"
      ],
      "metadata": {
        "id": "00I5GntbuBEW"
      },
      "execution_count": null,
      "outputs": []
    },
    {
      "cell_type": "code",
      "source": [
        "triplets.columns = ['subject', 'object', 'relation']\n",
        "triplets.drop_duplicates()\n",
        "\n",
        "triplets.to_csv('triplets.csv')"
      ],
      "metadata": {
        "id": "s1Gcl4QauHEN"
      },
      "execution_count": null,
      "outputs": []
    },
    {
      "cell_type": "markdown",
      "source": [
        "#### Load triplets"
      ],
      "metadata": {
        "id": "JNgFarupsN3V"
      }
    },
    {
      "cell_type": "code",
      "source": [
        "#get triplets\n",
        "triplet_file = 'triplets.csv'\n",
        "triplet_path = os.path.join(dataset_path, triplet_file)\n",
        "\n",
        "umls_triplets = pd.read_csv(triplet_path)\n",
        "umls_triplets = umls_triplets.drop(['Unnamed: 0'], axis = 1)"
      ],
      "metadata": {
        "id": "KzR8VrkHvjsO"
      },
      "execution_count": 7,
      "outputs": []
    },
    {
      "cell_type": "code",
      "source": [
        "umls_triplets.head()"
      ],
      "metadata": {
        "colab": {
          "base_uri": "https://localhost:8080/",
          "height": 204
        },
        "id": "j7KDJZFEopsl",
        "outputId": "84a0c6fc-87b0-49fd-9d94-48aa88954327"
      },
      "execution_count": 8,
      "outputs": [
        {
          "output_type": "execute_result",
          "data": {
            "text/plain": [
              "    subject    object                 relation\n",
              "0  C2347441  C4762419           has_ingredient\n",
              "1  C0022877  C0803531                has_class\n",
              "2  C0301042  C3160584  has_inactive_ingredient\n",
              "3  C0027530  C1953956               has_system\n",
              "4  C0040300  C1507501               has_system"
            ],
            "text/html": [
              "\n",
              "  <div id=\"df-6e92d377-c3b6-4cbd-ba76-25522be35431\">\n",
              "    <div class=\"colab-df-container\">\n",
              "      <div>\n",
              "<style scoped>\n",
              "    .dataframe tbody tr th:only-of-type {\n",
              "        vertical-align: middle;\n",
              "    }\n",
              "\n",
              "    .dataframe tbody tr th {\n",
              "        vertical-align: top;\n",
              "    }\n",
              "\n",
              "    .dataframe thead th {\n",
              "        text-align: right;\n",
              "    }\n",
              "</style>\n",
              "<table border=\"1\" class=\"dataframe\">\n",
              "  <thead>\n",
              "    <tr style=\"text-align: right;\">\n",
              "      <th></th>\n",
              "      <th>subject</th>\n",
              "      <th>object</th>\n",
              "      <th>relation</th>\n",
              "    </tr>\n",
              "  </thead>\n",
              "  <tbody>\n",
              "    <tr>\n",
              "      <th>0</th>\n",
              "      <td>C2347441</td>\n",
              "      <td>C4762419</td>\n",
              "      <td>has_ingredient</td>\n",
              "    </tr>\n",
              "    <tr>\n",
              "      <th>1</th>\n",
              "      <td>C0022877</td>\n",
              "      <td>C0803531</td>\n",
              "      <td>has_class</td>\n",
              "    </tr>\n",
              "    <tr>\n",
              "      <th>2</th>\n",
              "      <td>C0301042</td>\n",
              "      <td>C3160584</td>\n",
              "      <td>has_inactive_ingredient</td>\n",
              "    </tr>\n",
              "    <tr>\n",
              "      <th>3</th>\n",
              "      <td>C0027530</td>\n",
              "      <td>C1953956</td>\n",
              "      <td>has_system</td>\n",
              "    </tr>\n",
              "    <tr>\n",
              "      <th>4</th>\n",
              "      <td>C0040300</td>\n",
              "      <td>C1507501</td>\n",
              "      <td>has_system</td>\n",
              "    </tr>\n",
              "  </tbody>\n",
              "</table>\n",
              "</div>\n",
              "      <button class=\"colab-df-convert\" onclick=\"convertToInteractive('df-6e92d377-c3b6-4cbd-ba76-25522be35431')\"\n",
              "              title=\"Convert this dataframe to an interactive table.\"\n",
              "              style=\"display:none;\">\n",
              "        \n",
              "  <svg xmlns=\"http://www.w3.org/2000/svg\" height=\"24px\"viewBox=\"0 0 24 24\"\n",
              "       width=\"24px\">\n",
              "    <path d=\"M0 0h24v24H0V0z\" fill=\"none\"/>\n",
              "    <path d=\"M18.56 5.44l.94 2.06.94-2.06 2.06-.94-2.06-.94-.94-2.06-.94 2.06-2.06.94zm-11 1L8.5 8.5l.94-2.06 2.06-.94-2.06-.94L8.5 2.5l-.94 2.06-2.06.94zm10 10l.94 2.06.94-2.06 2.06-.94-2.06-.94-.94-2.06-.94 2.06-2.06.94z\"/><path d=\"M17.41 7.96l-1.37-1.37c-.4-.4-.92-.59-1.43-.59-.52 0-1.04.2-1.43.59L10.3 9.45l-7.72 7.72c-.78.78-.78 2.05 0 2.83L4 21.41c.39.39.9.59 1.41.59.51 0 1.02-.2 1.41-.59l7.78-7.78 2.81-2.81c.8-.78.8-2.07 0-2.86zM5.41 20L4 18.59l7.72-7.72 1.47 1.35L5.41 20z\"/>\n",
              "  </svg>\n",
              "      </button>\n",
              "      \n",
              "  <style>\n",
              "    .colab-df-container {\n",
              "      display:flex;\n",
              "      flex-wrap:wrap;\n",
              "      gap: 12px;\n",
              "    }\n",
              "\n",
              "    .colab-df-convert {\n",
              "      background-color: #E8F0FE;\n",
              "      border: none;\n",
              "      border-radius: 50%;\n",
              "      cursor: pointer;\n",
              "      display: none;\n",
              "      fill: #1967D2;\n",
              "      height: 32px;\n",
              "      padding: 0 0 0 0;\n",
              "      width: 32px;\n",
              "    }\n",
              "\n",
              "    .colab-df-convert:hover {\n",
              "      background-color: #E2EBFA;\n",
              "      box-shadow: 0px 1px 2px rgba(60, 64, 67, 0.3), 0px 1px 3px 1px rgba(60, 64, 67, 0.15);\n",
              "      fill: #174EA6;\n",
              "    }\n",
              "\n",
              "    [theme=dark] .colab-df-convert {\n",
              "      background-color: #3B4455;\n",
              "      fill: #D2E3FC;\n",
              "    }\n",
              "\n",
              "    [theme=dark] .colab-df-convert:hover {\n",
              "      background-color: #434B5C;\n",
              "      box-shadow: 0px 1px 3px 1px rgba(0, 0, 0, 0.15);\n",
              "      filter: drop-shadow(0px 1px 2px rgba(0, 0, 0, 0.3));\n",
              "      fill: #FFFFFF;\n",
              "    }\n",
              "  </style>\n",
              "\n",
              "      <script>\n",
              "        const buttonEl =\n",
              "          document.querySelector('#df-6e92d377-c3b6-4cbd-ba76-25522be35431 button.colab-df-convert');\n",
              "        buttonEl.style.display =\n",
              "          google.colab.kernel.accessAllowed ? 'block' : 'none';\n",
              "\n",
              "        async function convertToInteractive(key) {\n",
              "          const element = document.querySelector('#df-6e92d377-c3b6-4cbd-ba76-25522be35431');\n",
              "          const dataTable =\n",
              "            await google.colab.kernel.invokeFunction('convertToInteractive',\n",
              "                                                     [key], {});\n",
              "          if (!dataTable) return;\n",
              "\n",
              "          const docLinkHtml = 'Like what you see? Visit the ' +\n",
              "            '<a target=\"_blank\" href=https://colab.research.google.com/notebooks/data_table.ipynb>data table notebook</a>'\n",
              "            + ' to learn more about interactive tables.';\n",
              "          element.innerHTML = '';\n",
              "          dataTable['output_type'] = 'display_data';\n",
              "          await google.colab.output.renderOutput(dataTable, element);\n",
              "          const docLink = document.createElement('div');\n",
              "          docLink.innerHTML = docLinkHtml;\n",
              "          element.appendChild(docLink);\n",
              "        }\n",
              "      </script>\n",
              "    </div>\n",
              "  </div>\n",
              "  "
            ]
          },
          "metadata": {},
          "execution_count": 8
        }
      ]
    },
    {
      "cell_type": "markdown",
      "source": [
        "## Align"
      ],
      "metadata": {
        "id": "1cN9yZHMnuK6"
      }
    },
    {
      "cell_type": "code",
      "source": [
        "#transfer from str CUI to int CUI\n",
        "#like \"C1022345\" to 1022345\n",
        "\n",
        "def tran_to_index(x):\n",
        "    return int(x[1:])"
      ],
      "metadata": {
        "id": "_bvx-oWXm95i"
      },
      "execution_count": 9,
      "outputs": []
    },
    {
      "cell_type": "code",
      "source": [
        "#transfer it to dict of shape\n",
        "'''\n",
        "{(subject, object): relation}\n",
        "'''\n",
        "\n",
        "umls_triplets['subject'] = umls_triplets['subject'].map(tran_to_index)\n",
        "umls_triplets['object'] = umls_triplets['object'].map(tran_to_index)\n",
        "\n",
        "dict_triplets = dict(zip(zip(umls_triplets['subject'], umls_triplets['object']), umls_triplets['relation']))"
      ],
      "metadata": {
        "id": "ujnGvivJvDSN"
      },
      "execution_count": 10,
      "outputs": []
    },
    {
      "cell_type": "code",
      "source": [
        "umls_triplets.head()"
      ],
      "metadata": {
        "id": "ciKgCyjiox_R",
        "colab": {
          "base_uri": "https://localhost:8080/",
          "height": 204
        },
        "outputId": "84dd7009-0363-44cd-c8a8-3195696a43eb"
      },
      "execution_count": 11,
      "outputs": [
        {
          "output_type": "execute_result",
          "data": {
            "text/plain": [
              "   subject   object                 relation\n",
              "0  2347441  4762419           has_ingredient\n",
              "1    22877   803531                has_class\n",
              "2   301042  3160584  has_inactive_ingredient\n",
              "3    27530  1953956               has_system\n",
              "4    40300  1507501               has_system"
            ],
            "text/html": [
              "\n",
              "  <div id=\"df-a9447dac-50ac-41c8-b18a-42b1e872afdb\">\n",
              "    <div class=\"colab-df-container\">\n",
              "      <div>\n",
              "<style scoped>\n",
              "    .dataframe tbody tr th:only-of-type {\n",
              "        vertical-align: middle;\n",
              "    }\n",
              "\n",
              "    .dataframe tbody tr th {\n",
              "        vertical-align: top;\n",
              "    }\n",
              "\n",
              "    .dataframe thead th {\n",
              "        text-align: right;\n",
              "    }\n",
              "</style>\n",
              "<table border=\"1\" class=\"dataframe\">\n",
              "  <thead>\n",
              "    <tr style=\"text-align: right;\">\n",
              "      <th></th>\n",
              "      <th>subject</th>\n",
              "      <th>object</th>\n",
              "      <th>relation</th>\n",
              "    </tr>\n",
              "  </thead>\n",
              "  <tbody>\n",
              "    <tr>\n",
              "      <th>0</th>\n",
              "      <td>2347441</td>\n",
              "      <td>4762419</td>\n",
              "      <td>has_ingredient</td>\n",
              "    </tr>\n",
              "    <tr>\n",
              "      <th>1</th>\n",
              "      <td>22877</td>\n",
              "      <td>803531</td>\n",
              "      <td>has_class</td>\n",
              "    </tr>\n",
              "    <tr>\n",
              "      <th>2</th>\n",
              "      <td>301042</td>\n",
              "      <td>3160584</td>\n",
              "      <td>has_inactive_ingredient</td>\n",
              "    </tr>\n",
              "    <tr>\n",
              "      <th>3</th>\n",
              "      <td>27530</td>\n",
              "      <td>1953956</td>\n",
              "      <td>has_system</td>\n",
              "    </tr>\n",
              "    <tr>\n",
              "      <th>4</th>\n",
              "      <td>40300</td>\n",
              "      <td>1507501</td>\n",
              "      <td>has_system</td>\n",
              "    </tr>\n",
              "  </tbody>\n",
              "</table>\n",
              "</div>\n",
              "      <button class=\"colab-df-convert\" onclick=\"convertToInteractive('df-a9447dac-50ac-41c8-b18a-42b1e872afdb')\"\n",
              "              title=\"Convert this dataframe to an interactive table.\"\n",
              "              style=\"display:none;\">\n",
              "        \n",
              "  <svg xmlns=\"http://www.w3.org/2000/svg\" height=\"24px\"viewBox=\"0 0 24 24\"\n",
              "       width=\"24px\">\n",
              "    <path d=\"M0 0h24v24H0V0z\" fill=\"none\"/>\n",
              "    <path d=\"M18.56 5.44l.94 2.06.94-2.06 2.06-.94-2.06-.94-.94-2.06-.94 2.06-2.06.94zm-11 1L8.5 8.5l.94-2.06 2.06-.94-2.06-.94L8.5 2.5l-.94 2.06-2.06.94zm10 10l.94 2.06.94-2.06 2.06-.94-2.06-.94-.94-2.06-.94 2.06-2.06.94z\"/><path d=\"M17.41 7.96l-1.37-1.37c-.4-.4-.92-.59-1.43-.59-.52 0-1.04.2-1.43.59L10.3 9.45l-7.72 7.72c-.78.78-.78 2.05 0 2.83L4 21.41c.39.39.9.59 1.41.59.51 0 1.02-.2 1.41-.59l7.78-7.78 2.81-2.81c.8-.78.8-2.07 0-2.86zM5.41 20L4 18.59l7.72-7.72 1.47 1.35L5.41 20z\"/>\n",
              "  </svg>\n",
              "      </button>\n",
              "      \n",
              "  <style>\n",
              "    .colab-df-container {\n",
              "      display:flex;\n",
              "      flex-wrap:wrap;\n",
              "      gap: 12px;\n",
              "    }\n",
              "\n",
              "    .colab-df-convert {\n",
              "      background-color: #E8F0FE;\n",
              "      border: none;\n",
              "      border-radius: 50%;\n",
              "      cursor: pointer;\n",
              "      display: none;\n",
              "      fill: #1967D2;\n",
              "      height: 32px;\n",
              "      padding: 0 0 0 0;\n",
              "      width: 32px;\n",
              "    }\n",
              "\n",
              "    .colab-df-convert:hover {\n",
              "      background-color: #E2EBFA;\n",
              "      box-shadow: 0px 1px 2px rgba(60, 64, 67, 0.3), 0px 1px 3px 1px rgba(60, 64, 67, 0.15);\n",
              "      fill: #174EA6;\n",
              "    }\n",
              "\n",
              "    [theme=dark] .colab-df-convert {\n",
              "      background-color: #3B4455;\n",
              "      fill: #D2E3FC;\n",
              "    }\n",
              "\n",
              "    [theme=dark] .colab-df-convert:hover {\n",
              "      background-color: #434B5C;\n",
              "      box-shadow: 0px 1px 3px 1px rgba(0, 0, 0, 0.15);\n",
              "      filter: drop-shadow(0px 1px 2px rgba(0, 0, 0, 0.3));\n",
              "      fill: #FFFFFF;\n",
              "    }\n",
              "  </style>\n",
              "\n",
              "      <script>\n",
              "        const buttonEl =\n",
              "          document.querySelector('#df-a9447dac-50ac-41c8-b18a-42b1e872afdb button.colab-df-convert');\n",
              "        buttonEl.style.display =\n",
              "          google.colab.kernel.accessAllowed ? 'block' : 'none';\n",
              "\n",
              "        async function convertToInteractive(key) {\n",
              "          const element = document.querySelector('#df-a9447dac-50ac-41c8-b18a-42b1e872afdb');\n",
              "          const dataTable =\n",
              "            await google.colab.kernel.invokeFunction('convertToInteractive',\n",
              "                                                     [key], {});\n",
              "          if (!dataTable) return;\n",
              "\n",
              "          const docLinkHtml = 'Like what you see? Visit the ' +\n",
              "            '<a target=\"_blank\" href=https://colab.research.google.com/notebooks/data_table.ipynb>data table notebook</a>'\n",
              "            + ' to learn more about interactive tables.';\n",
              "          element.innerHTML = '';\n",
              "          dataTable['output_type'] = 'display_data';\n",
              "          await google.colab.output.renderOutput(dataTable, element);\n",
              "          const docLink = document.createElement('div');\n",
              "          docLink.innerHTML = docLinkHtml;\n",
              "          element.appendChild(docLink);\n",
              "        }\n",
              "      </script>\n",
              "    </div>\n",
              "  </div>\n",
              "  "
            ]
          },
          "metadata": {},
          "execution_count": 11
        }
      ]
    },
    {
      "cell_type": "code",
      "source": [
        "# Define the relations_map\n",
        "umls_relations = set(umls_triplets['relation'])\n",
        "relations_map = {i: relation for i, relation in enumerate(umls_relations)}\n",
        "inverse_map = {v:k for k,v in relations_map.items()}\n",
        "\n",
        "print(\"There are total {} kinds of relationship\".format(len(umls_relations)))"
      ],
      "metadata": {
        "colab": {
          "base_uri": "https://localhost:8080/"
        },
        "id": "Zyg4ysf-aR4T",
        "outputId": "4d797f55-35a7-436c-e4a2-9cd9687c8feb"
      },
      "execution_count": 12,
      "outputs": [
        {
          "output_type": "stream",
          "name": "stdout",
          "text": [
            "There are total 608 kinds of relationship\n"
          ]
        }
      ]
    },
    {
      "cell_type": "code",
      "source": [
        "'''\n",
        "This step is main for Align text and triplets,\n",
        "'''\n",
        "\n",
        "for index, item in tqdm(sentences.iterrows()):\n",
        "\n",
        "    #column 1 {sentence} we dont need for here\n",
        "    entities = copy.deepcopy(item['entity']) #column 2, use copy cause we dont want to change the original data\n",
        "    triplets = item['triplet'] #column 3\n",
        "\n",
        "    if triplets is not None:\n",
        "        continue;\n",
        "    \n",
        "    #also do str CUI to int CUI for entity of text\n",
        "    for entity in entities:\n",
        "        if not isinstance(entity['cui'], int):\n",
        "            entity['cui'] = tran_to_index(entity['cui'])\n",
        "    \n",
        "    #start to align text with tripltes of umls\n",
        "    aligned_triplets = []\n",
        "    for entity1 in entities:\n",
        "        for entity2 in entities:\n",
        "            # we use a pair of entitis to detect whether they have a relation in the UMLS triplets\n",
        "            if entity1 != entity2:\n",
        "                if (entity1['cui'], entity2['cui']) in dict_triplets.keys():\n",
        "                    #we find one, we use this triplet to label this row\n",
        "                    #instead of store cui, we stored the string name of this entity\n",
        "                    rel = dict_triplets[(entity1['cui'], entity2['cui'])]\n",
        "                    \n",
        "                    triplet = (entity1['name'], entity2['name'], rel)\n",
        "                    aligned_triplets.append(triplet)\n",
        "    #Align\n",
        "    item['triplet'] = aligned_triplets"
      ],
      "metadata": {
        "id": "p7nyVZoOWh3V",
        "colab": {
          "base_uri": "https://localhost:8080/"
        },
        "outputId": "f22691c6-0d14-4015-d002-f184b637ecdf"
      },
      "execution_count": 13,
      "outputs": [
        {
          "output_type": "stream",
          "name": "stderr",
          "text": [
            "50000it [07:11, 115.89it/s]\n"
          ]
        }
      ]
    },
    {
      "cell_type": "code",
      "source": [
        "sentences.head()"
      ],
      "metadata": {
        "colab": {
          "base_uri": "https://localhost:8080/",
          "height": 333
        },
        "id": "WGXb_SAfaAzE",
        "outputId": "de2399ab-abaa-410a-cd77-3139ec614cc4"
      },
      "execution_count": 14,
      "outputs": [
        {
          "output_type": "execute_result",
          "data": {
            "text/plain": [
              "                                                text  \\\n",
              "0  The hepatic ultrastructural aspect and the hep...   \n",
              "1  The group G streptococcus may be a more common...   \n",
              "2  Effects of a 24 hour fast were studied in 21 o...   \n",
              "3  The present study has been undertaken to elici...   \n",
              "4  Selected androgenic and nonandrogenic steroids...   \n",
              "\n",
              "                                              entity  \\\n",
              "0  [{'cui': 'C0041623', 'name': 'Ultrastructure',...   \n",
              "1  [{'cui': 'C0014118', 'name': 'Endocarditis', '...   \n",
              "2  [{'cui': 'C0028754', 'name': 'Obesity', 'type'...   \n",
              "3  [{'cui': 'C0342895', 'name': 'Fish-Eye Disease...   \n",
              "4  [{'cui': 'C0002844', 'name': 'Androgens', 'typ...   \n",
              "\n",
              "                                             triplet  \n",
              "0  [(Anemia, Hemolytic, Chronic hemolytic anemia,...  \n",
              "1                                                 []  \n",
              "2  [(Insulin, Insulin [EPC], has_structural_class...  \n",
              "3  [(Calcium, Calcium [EPC], parent_of), (Rattus,...  \n",
              "4  [(Androgens, Etiocholanolone, isa), (Androgens...  "
            ],
            "text/html": [
              "\n",
              "  <div id=\"df-d39e84cb-ab1a-4ef6-81c0-ae71e63e45d8\">\n",
              "    <div class=\"colab-df-container\">\n",
              "      <div>\n",
              "<style scoped>\n",
              "    .dataframe tbody tr th:only-of-type {\n",
              "        vertical-align: middle;\n",
              "    }\n",
              "\n",
              "    .dataframe tbody tr th {\n",
              "        vertical-align: top;\n",
              "    }\n",
              "\n",
              "    .dataframe thead th {\n",
              "        text-align: right;\n",
              "    }\n",
              "</style>\n",
              "<table border=\"1\" class=\"dataframe\">\n",
              "  <thead>\n",
              "    <tr style=\"text-align: right;\">\n",
              "      <th></th>\n",
              "      <th>text</th>\n",
              "      <th>entity</th>\n",
              "      <th>triplet</th>\n",
              "    </tr>\n",
              "  </thead>\n",
              "  <tbody>\n",
              "    <tr>\n",
              "      <th>0</th>\n",
              "      <td>The hepatic ultrastructural aspect and the hep...</td>\n",
              "      <td>[{'cui': 'C0041623', 'name': 'Ultrastructure',...</td>\n",
              "      <td>[(Anemia, Hemolytic, Chronic hemolytic anemia,...</td>\n",
              "    </tr>\n",
              "    <tr>\n",
              "      <th>1</th>\n",
              "      <td>The group G streptococcus may be a more common...</td>\n",
              "      <td>[{'cui': 'C0014118', 'name': 'Endocarditis', '...</td>\n",
              "      <td>[]</td>\n",
              "    </tr>\n",
              "    <tr>\n",
              "      <th>2</th>\n",
              "      <td>Effects of a 24 hour fast were studied in 21 o...</td>\n",
              "      <td>[{'cui': 'C0028754', 'name': 'Obesity', 'type'...</td>\n",
              "      <td>[(Insulin, Insulin [EPC], has_structural_class...</td>\n",
              "    </tr>\n",
              "    <tr>\n",
              "      <th>3</th>\n",
              "      <td>The present study has been undertaken to elici...</td>\n",
              "      <td>[{'cui': 'C0342895', 'name': 'Fish-Eye Disease...</td>\n",
              "      <td>[(Calcium, Calcium [EPC], parent_of), (Rattus,...</td>\n",
              "    </tr>\n",
              "    <tr>\n",
              "      <th>4</th>\n",
              "      <td>Selected androgenic and nonandrogenic steroids...</td>\n",
              "      <td>[{'cui': 'C0002844', 'name': 'Androgens', 'typ...</td>\n",
              "      <td>[(Androgens, Etiocholanolone, isa), (Androgens...</td>\n",
              "    </tr>\n",
              "  </tbody>\n",
              "</table>\n",
              "</div>\n",
              "      <button class=\"colab-df-convert\" onclick=\"convertToInteractive('df-d39e84cb-ab1a-4ef6-81c0-ae71e63e45d8')\"\n",
              "              title=\"Convert this dataframe to an interactive table.\"\n",
              "              style=\"display:none;\">\n",
              "        \n",
              "  <svg xmlns=\"http://www.w3.org/2000/svg\" height=\"24px\"viewBox=\"0 0 24 24\"\n",
              "       width=\"24px\">\n",
              "    <path d=\"M0 0h24v24H0V0z\" fill=\"none\"/>\n",
              "    <path d=\"M18.56 5.44l.94 2.06.94-2.06 2.06-.94-2.06-.94-.94-2.06-.94 2.06-2.06.94zm-11 1L8.5 8.5l.94-2.06 2.06-.94-2.06-.94L8.5 2.5l-.94 2.06-2.06.94zm10 10l.94 2.06.94-2.06 2.06-.94-2.06-.94-.94-2.06-.94 2.06-2.06.94z\"/><path d=\"M17.41 7.96l-1.37-1.37c-.4-.4-.92-.59-1.43-.59-.52 0-1.04.2-1.43.59L10.3 9.45l-7.72 7.72c-.78.78-.78 2.05 0 2.83L4 21.41c.39.39.9.59 1.41.59.51 0 1.02-.2 1.41-.59l7.78-7.78 2.81-2.81c.8-.78.8-2.07 0-2.86zM5.41 20L4 18.59l7.72-7.72 1.47 1.35L5.41 20z\"/>\n",
              "  </svg>\n",
              "      </button>\n",
              "      \n",
              "  <style>\n",
              "    .colab-df-container {\n",
              "      display:flex;\n",
              "      flex-wrap:wrap;\n",
              "      gap: 12px;\n",
              "    }\n",
              "\n",
              "    .colab-df-convert {\n",
              "      background-color: #E8F0FE;\n",
              "      border: none;\n",
              "      border-radius: 50%;\n",
              "      cursor: pointer;\n",
              "      display: none;\n",
              "      fill: #1967D2;\n",
              "      height: 32px;\n",
              "      padding: 0 0 0 0;\n",
              "      width: 32px;\n",
              "    }\n",
              "\n",
              "    .colab-df-convert:hover {\n",
              "      background-color: #E2EBFA;\n",
              "      box-shadow: 0px 1px 2px rgba(60, 64, 67, 0.3), 0px 1px 3px 1px rgba(60, 64, 67, 0.15);\n",
              "      fill: #174EA6;\n",
              "    }\n",
              "\n",
              "    [theme=dark] .colab-df-convert {\n",
              "      background-color: #3B4455;\n",
              "      fill: #D2E3FC;\n",
              "    }\n",
              "\n",
              "    [theme=dark] .colab-df-convert:hover {\n",
              "      background-color: #434B5C;\n",
              "      box-shadow: 0px 1px 3px 1px rgba(0, 0, 0, 0.15);\n",
              "      filter: drop-shadow(0px 1px 2px rgba(0, 0, 0, 0.3));\n",
              "      fill: #FFFFFF;\n",
              "    }\n",
              "  </style>\n",
              "\n",
              "      <script>\n",
              "        const buttonEl =\n",
              "          document.querySelector('#df-d39e84cb-ab1a-4ef6-81c0-ae71e63e45d8 button.colab-df-convert');\n",
              "        buttonEl.style.display =\n",
              "          google.colab.kernel.accessAllowed ? 'block' : 'none';\n",
              "\n",
              "        async function convertToInteractive(key) {\n",
              "          const element = document.querySelector('#df-d39e84cb-ab1a-4ef6-81c0-ae71e63e45d8');\n",
              "          const dataTable =\n",
              "            await google.colab.kernel.invokeFunction('convertToInteractive',\n",
              "                                                     [key], {});\n",
              "          if (!dataTable) return;\n",
              "\n",
              "          const docLinkHtml = 'Like what you see? Visit the ' +\n",
              "            '<a target=\"_blank\" href=https://colab.research.google.com/notebooks/data_table.ipynb>data table notebook</a>'\n",
              "            + ' to learn more about interactive tables.';\n",
              "          element.innerHTML = '';\n",
              "          dataTable['output_type'] = 'display_data';\n",
              "          await google.colab.output.renderOutput(dataTable, element);\n",
              "          const docLink = document.createElement('div');\n",
              "          docLink.innerHTML = docLinkHtml;\n",
              "          element.appendChild(docLink);\n",
              "        }\n",
              "      </script>\n",
              "    </div>\n",
              "  </div>\n",
              "  "
            ]
          },
          "metadata": {},
          "execution_count": 14
        }
      ]
    },
    {
      "cell_type": "markdown",
      "source": [
        "## Extract Subgraph"
      ],
      "metadata": {
        "id": "kl6ZOj_wH-I-"
      }
    },
    {
      "cell_type": "markdown",
      "source": [
        "#### Build rel_pairs"
      ],
      "metadata": {
        "id": "AR-nlv-vgoj_"
      }
    },
    {
      "cell_type": "code",
      "source": [
        "'''\n",
        "Here is for build rel_pairs as dict\n",
        "{(rel1, rel2) : count}\n",
        "'''\n",
        "rel_pairs = {} \n",
        "\n",
        "def count_rel_pairs(triplets):\n",
        "    #for better match speed, map it to index\n",
        "    rels = [inverse_map[triplet[2]] for triplet in triplets]\n",
        "\n",
        "    length = len(rels)\n",
        "    for i in range(length):\n",
        "        rel_i = rels[i]\n",
        "        if i == length - 1:\n",
        "            break;\n",
        "        for j in range(i+1, length):\n",
        "            rel_j = rels[j]\n",
        "            if ((rel_i, rel_j) in rel_pairs.keys() or (rel_j, rel_i) in rel_pairs.keys()) and (rel_i != rel_j):\n",
        "                if (rel_i, rel_j) in rel_pairs.keys():\n",
        "                    rel_pairs[(rel_i, rel_j)] += 1\n",
        "                else:\n",
        "                    rel_pairs[(rel_j, rel_i)] += 1\n",
        "            else:\n",
        "                rel_pairs[(rel_i, rel_j)] = 1"
      ],
      "metadata": {
        "id": "Y1ZAWnMMsPEi"
      },
      "execution_count": 15,
      "outputs": []
    },
    {
      "cell_type": "code",
      "source": [
        "# it is as dict of {cui(int) : name(string)}\n",
        "dict_entities = {}\n",
        "\n",
        "# it is a list of tuples as (subject cui, object cui, relation index)\n",
        "# this is for store value to extract subgraph more efficiency\n",
        "sentences_triplets = []\n",
        "\n",
        "for index, item in tqdm(sentences.iterrows()):\n",
        "\n",
        "    entities = copy.deepcopy(item['entity']) #column 2\n",
        "    triplets = item['triplet'] #column 3\n",
        "\n",
        "    if triplets is None:\n",
        "        continue\n",
        "    \n",
        "    temp_dict = {}\n",
        "    for entity in entities:\n",
        "        if not isinstance(entity['cui'], int):\n",
        "            entity['cui'] = tran_to_index(entity['cui'])\n",
        "\n",
        "        dict_entities[entity['cui']] = entity['name']\n",
        "        temp_dict[entity['name']] = entity['cui']\n",
        "\n",
        "    for triplet in triplets:\n",
        "        entity1 = temp_dict[triplet[0]]\n",
        "        entity2 = temp_dict[triplet[1]]\n",
        "        rel = inverse_map[triplet[2]]\n",
        "\n",
        "        sentences_triplets.append((entity1, entity2, rel))\n",
        "\n",
        "    count_rel_pairs(triplets)"
      ],
      "metadata": {
        "colab": {
          "base_uri": "https://localhost:8080/"
        },
        "id": "i687uy-4c-AX",
        "outputId": "4e6766d7-1f7e-4f93-a8aa-a53335baa30a"
      },
      "execution_count": 98,
      "outputs": [
        {
          "output_type": "stream",
          "name": "stderr",
          "text": [
            "50000it [01:17, 641.48it/s]\n"
          ]
        }
      ]
    },
    {
      "cell_type": "code",
      "source": [
        "sentences_triplets = list(set(sentences_triplets))"
      ],
      "metadata": {
        "id": "IccYN4OagcKz"
      },
      "execution_count": 99,
      "outputs": []
    },
    {
      "cell_type": "code",
      "source": [
        "len(sentences_triplets)"
      ],
      "metadata": {
        "colab": {
          "base_uri": "https://localhost:8080/"
        },
        "id": "v4HC_IXptNLI",
        "outputId": "ed87c105-cf64-439e-b0e7-9dfbde901d2f"
      },
      "execution_count": 100,
      "outputs": [
        {
          "output_type": "execute_result",
          "data": {
            "text/plain": [
              "57154"
            ]
          },
          "metadata": {},
          "execution_count": 100
        }
      ]
    },
    {
      "cell_type": "code",
      "source": [
        "len(dict_entities)"
      ],
      "metadata": {
        "colab": {
          "base_uri": "https://localhost:8080/"
        },
        "id": "Zl8sdHHqyexP",
        "outputId": "b32269e4-a307-4ae9-df8d-21c3ed60ea8c"
      },
      "execution_count": 101,
      "outputs": [
        {
          "output_type": "execute_result",
          "data": {
            "text/plain": [
              "93221"
            ]
          },
          "metadata": {},
          "execution_count": 101
        }
      ]
    },
    {
      "cell_type": "code",
      "source": [
        "import heapq\n",
        "\n",
        "#Trun to a dict of \n",
        "#key as rel\n",
        "#value as heapq of tuple (count, rel_2)\n",
        "# rel_pairs = sorted(rel_pairs.items(), key=lambda x:x[1], reverse=True)\n",
        "\n",
        "dict_of_maxheap = {}\n",
        "\n",
        "for pairs, count in rel_pairs.items():\n",
        "    rel_i = pairs[0]\n",
        "    rel_j = pairs[1]\n",
        "\n",
        "    if rel_i not in dict_of_maxheap.keys():\n",
        "        heap = []\n",
        "        heapq.heappush(heap, (-count, rel_j))\n",
        "        dict_of_maxheap[rel_i] = heap\n",
        "    else:\n",
        "        heapq.heappush(dict_of_maxheap[rel_i], (-count, rel_j))\n",
        "    \n",
        "    if rel_j not in dict_of_maxheap.keys():\n",
        "        heap = []\n",
        "        heapq.heappush(heap, (-count, rel_i))\n",
        "        dict_of_maxheap[rel_j] = heap\n",
        "    else:\n",
        "        heapq.heappush(dict_of_maxheap[rel_j], (-count, rel_i))"
      ],
      "metadata": {
        "id": "8bVru2rup26l"
      },
      "execution_count": 102,
      "outputs": []
    },
    {
      "cell_type": "markdown",
      "source": [
        "#### extract subgraph"
      ],
      "metadata": {
        "id": "FeIZu4OBgvVr"
      }
    },
    {
      "cell_type": "code",
      "source": [
        "DEPTH = 5\n",
        "\n",
        "def map_to_string(triplet):\n",
        "\n",
        "    sub = dict_entities[triplet[0]]\n",
        "    obj = dict_entities[triplet[1]]\n",
        "    rel = relations_map[triplet[2]]\n",
        "    return (sub, obj, rel)\n",
        "\n",
        "def get_triplet(rel_j, R):\n",
        "\n",
        "    for triplet in R:\n",
        "        if triplet[2] == rel_j:\n",
        "            return triplet\n",
        "    return None"
      ],
      "metadata": {
        "id": "rVFkt8V1mjOy"
      },
      "execution_count": 103,
      "outputs": []
    },
    {
      "cell_type": "code",
      "source": [
        "all_triplet_sets = []\n",
        "\n",
        "for cui, name in dict_entities.items():\n",
        "\n",
        "    retrievl = [] # R\n",
        "    for triplet in sentences_triplets:\n",
        "        if cui == triplet[0]:\n",
        "            retrievl.append(triplet)\n",
        "    \n",
        "    #cause Each entity subgraph consists of a maximum of five triples\n",
        "    #so if the triplet in the whole KG of this entity <= 5, we don't search for rel_pairs\n",
        "    #just add, and pass\n",
        "    if len(retrievl) <= 5:\n",
        "        if len(retrievl) != 0:\n",
        "            #transfer from int to string of name \n",
        "            triplet_set = []\n",
        "            for r in retrievl:\n",
        "                triplet_set.append(map_to_string(r))\n",
        "                sentences_triplets.remove(r)\n",
        "            all_triplet_sets.append(triplet_set)\n",
        "        continue;\n",
        "    \n",
        "    #if there are more than 5, we need to select those Rel by the rel_pair of the order of count\n",
        "    while retrievl:\n",
        "        triplet_set = []\n",
        "\n",
        "        triplet_random = random.choice(retrievl)\n",
        "        rel_random = triplet_random[2]\n",
        "        triplet_set.append(map_to_string(triplet_random))\n",
        "\n",
        "        retrievl.remove(triplet_random)\n",
        "        sentences_triplets.remove(triplet_random)\n",
        "\n",
        "        for i in range(2, DEPTH):\n",
        "            maxheap = dict_of_maxheap[rel_random]\n",
        "            while maxheap:\n",
        "                max_element = heapq.heappop(maxheap)\n",
        "                flag = 0\n",
        "                for triplet in retrievl:\n",
        "                    if triplet[2] == max_element[1]:\n",
        "                        rel_random = max_element[1]\n",
        "                        triplet_set.append(map_to_string(triplet))\n",
        "                        retrievl.remove(triplet)\n",
        "                        sentences_triplets.remove(triplet)\n",
        "                        flag = 1\n",
        "                        break;\n",
        "                if flag == 1:\n",
        "                    break;\n",
        "\n",
        "        if len(triplet_set) != 0:\n",
        "            all_triplet_sets.append(triplet_set)\n",
        "        #append (entity1, entity2, relation)\n"
      ],
      "metadata": {
        "id": "dDDoJqWDIJRu"
      },
      "execution_count": 104,
      "outputs": []
    },
    {
      "cell_type": "code",
      "source": [
        "len(all_triplet_sets)"
      ],
      "metadata": {
        "colab": {
          "base_uri": "https://localhost:8080/"
        },
        "id": "WeJvYUXL1Qn7",
        "outputId": "5599af7a-b370-4141-b340-d964bc54e67c"
      },
      "execution_count": 105,
      "outputs": [
        {
          "output_type": "execute_result",
          "data": {
            "text/plain": [
              "43581"
            ]
          },
          "metadata": {},
          "execution_count": 105
        }
      ]
    },
    {
      "cell_type": "code",
      "source": [
        "all_triplet_sets[0]"
      ],
      "metadata": {
        "colab": {
          "base_uri": "https://localhost:8080/"
        },
        "id": "xMex445m7G4z",
        "outputId": "06168143-bd99-4f87-908a-8808c90f7d7d"
      },
      "execution_count": 106,
      "outputs": [
        {
          "output_type": "execute_result",
          "data": {
            "text/plain": [
              "[('Anemia, Hemolytic', 'Hemolytic-Uremic Syndrome', 'use'),\n",
              " ('Anemia, Hemolytic', 'Autoimmune hemolytic anemia', 'isa'),\n",
              " ('Anemia, Hemolytic', 'Chronic hemolytic anemia', 'isa'),\n",
              " ('Anemia, Hemolytic', 'Coombs positive hemolytic anemia', 'isa'),\n",
              " ('Anemia, Hemolytic', 'Lupus Erythematosus, Systemic', 'has_manifestation')]"
            ]
          },
          "metadata": {},
          "execution_count": 106
        }
      ]
    },
    {
      "cell_type": "markdown",
      "source": [
        "## Save aligned dataset and subgraph dataset"
      ],
      "metadata": {
        "id": "7i6Tc0qg6n-M"
      }
    },
    {
      "cell_type": "code",
      "source": [
        "sentences.to_csv(os.path.join(dataset_path, 'aligned_dataset.csv'))"
      ],
      "metadata": {
        "id": "34XXWRzJ3GW2"
      },
      "execution_count": 108,
      "outputs": []
    },
    {
      "cell_type": "code",
      "source": [
        "all_triplet_sets = [tuple(x) for x in all_triplet_sets]\n",
        "\n",
        "pd_all_triplet_sets = pd.DataFrame({'subgraph': all_triplet_sets})"
      ],
      "metadata": {
        "id": "wWeH5pa--wyF"
      },
      "execution_count": 121,
      "outputs": []
    },
    {
      "cell_type": "code",
      "source": [
        "pd_all_triplet_sets.head()"
      ],
      "metadata": {
        "colab": {
          "base_uri": "https://localhost:8080/",
          "height": 204
        },
        "id": "Zt_tAAdq_11X",
        "outputId": "059265dc-a2f6-425f-e1ad-84409c5ac5ae"
      },
      "execution_count": 123,
      "outputs": [
        {
          "output_type": "execute_result",
          "data": {
            "text/plain": [
              "                                            subgraph\n",
              "0  ((Anemia, Hemolytic, Hemolytic-Uremic Syndrome...\n",
              "1  ((Aplastic Anemia, Anemia, related_to), (Aplas...\n",
              "2  ((Aplastic Anemia, Aplastic bone marrow, mappe...\n",
              "3  ((ITGA2B wt Allele, Homo sapiens, organism_has...\n",
              "4  ((Bilirubin, bilirubin glucuronate, mapped_to)..."
            ],
            "text/html": [
              "\n",
              "  <div id=\"df-8acf2a95-ae22-4e52-8258-f7a9c3013843\">\n",
              "    <div class=\"colab-df-container\">\n",
              "      <div>\n",
              "<style scoped>\n",
              "    .dataframe tbody tr th:only-of-type {\n",
              "        vertical-align: middle;\n",
              "    }\n",
              "\n",
              "    .dataframe tbody tr th {\n",
              "        vertical-align: top;\n",
              "    }\n",
              "\n",
              "    .dataframe thead th {\n",
              "        text-align: right;\n",
              "    }\n",
              "</style>\n",
              "<table border=\"1\" class=\"dataframe\">\n",
              "  <thead>\n",
              "    <tr style=\"text-align: right;\">\n",
              "      <th></th>\n",
              "      <th>subgraph</th>\n",
              "    </tr>\n",
              "  </thead>\n",
              "  <tbody>\n",
              "    <tr>\n",
              "      <th>0</th>\n",
              "      <td>((Anemia, Hemolytic, Hemolytic-Uremic Syndrome...</td>\n",
              "    </tr>\n",
              "    <tr>\n",
              "      <th>1</th>\n",
              "      <td>((Aplastic Anemia, Anemia, related_to), (Aplas...</td>\n",
              "    </tr>\n",
              "    <tr>\n",
              "      <th>2</th>\n",
              "      <td>((Aplastic Anemia, Aplastic bone marrow, mappe...</td>\n",
              "    </tr>\n",
              "    <tr>\n",
              "      <th>3</th>\n",
              "      <td>((ITGA2B wt Allele, Homo sapiens, organism_has...</td>\n",
              "    </tr>\n",
              "    <tr>\n",
              "      <th>4</th>\n",
              "      <td>((Bilirubin, bilirubin glucuronate, mapped_to)...</td>\n",
              "    </tr>\n",
              "  </tbody>\n",
              "</table>\n",
              "</div>\n",
              "      <button class=\"colab-df-convert\" onclick=\"convertToInteractive('df-8acf2a95-ae22-4e52-8258-f7a9c3013843')\"\n",
              "              title=\"Convert this dataframe to an interactive table.\"\n",
              "              style=\"display:none;\">\n",
              "        \n",
              "  <svg xmlns=\"http://www.w3.org/2000/svg\" height=\"24px\"viewBox=\"0 0 24 24\"\n",
              "       width=\"24px\">\n",
              "    <path d=\"M0 0h24v24H0V0z\" fill=\"none\"/>\n",
              "    <path d=\"M18.56 5.44l.94 2.06.94-2.06 2.06-.94-2.06-.94-.94-2.06-.94 2.06-2.06.94zm-11 1L8.5 8.5l.94-2.06 2.06-.94-2.06-.94L8.5 2.5l-.94 2.06-2.06.94zm10 10l.94 2.06.94-2.06 2.06-.94-2.06-.94-.94-2.06-.94 2.06-2.06.94z\"/><path d=\"M17.41 7.96l-1.37-1.37c-.4-.4-.92-.59-1.43-.59-.52 0-1.04.2-1.43.59L10.3 9.45l-7.72 7.72c-.78.78-.78 2.05 0 2.83L4 21.41c.39.39.9.59 1.41.59.51 0 1.02-.2 1.41-.59l7.78-7.78 2.81-2.81c.8-.78.8-2.07 0-2.86zM5.41 20L4 18.59l7.72-7.72 1.47 1.35L5.41 20z\"/>\n",
              "  </svg>\n",
              "      </button>\n",
              "      \n",
              "  <style>\n",
              "    .colab-df-container {\n",
              "      display:flex;\n",
              "      flex-wrap:wrap;\n",
              "      gap: 12px;\n",
              "    }\n",
              "\n",
              "    .colab-df-convert {\n",
              "      background-color: #E8F0FE;\n",
              "      border: none;\n",
              "      border-radius: 50%;\n",
              "      cursor: pointer;\n",
              "      display: none;\n",
              "      fill: #1967D2;\n",
              "      height: 32px;\n",
              "      padding: 0 0 0 0;\n",
              "      width: 32px;\n",
              "    }\n",
              "\n",
              "    .colab-df-convert:hover {\n",
              "      background-color: #E2EBFA;\n",
              "      box-shadow: 0px 1px 2px rgba(60, 64, 67, 0.3), 0px 1px 3px 1px rgba(60, 64, 67, 0.15);\n",
              "      fill: #174EA6;\n",
              "    }\n",
              "\n",
              "    [theme=dark] .colab-df-convert {\n",
              "      background-color: #3B4455;\n",
              "      fill: #D2E3FC;\n",
              "    }\n",
              "\n",
              "    [theme=dark] .colab-df-convert:hover {\n",
              "      background-color: #434B5C;\n",
              "      box-shadow: 0px 1px 3px 1px rgba(0, 0, 0, 0.15);\n",
              "      filter: drop-shadow(0px 1px 2px rgba(0, 0, 0, 0.3));\n",
              "      fill: #FFFFFF;\n",
              "    }\n",
              "  </style>\n",
              "\n",
              "      <script>\n",
              "        const buttonEl =\n",
              "          document.querySelector('#df-8acf2a95-ae22-4e52-8258-f7a9c3013843 button.colab-df-convert');\n",
              "        buttonEl.style.display =\n",
              "          google.colab.kernel.accessAllowed ? 'block' : 'none';\n",
              "\n",
              "        async function convertToInteractive(key) {\n",
              "          const element = document.querySelector('#df-8acf2a95-ae22-4e52-8258-f7a9c3013843');\n",
              "          const dataTable =\n",
              "            await google.colab.kernel.invokeFunction('convertToInteractive',\n",
              "                                                     [key], {});\n",
              "          if (!dataTable) return;\n",
              "\n",
              "          const docLinkHtml = 'Like what you see? Visit the ' +\n",
              "            '<a target=\"_blank\" href=https://colab.research.google.com/notebooks/data_table.ipynb>data table notebook</a>'\n",
              "            + ' to learn more about interactive tables.';\n",
              "          element.innerHTML = '';\n",
              "          dataTable['output_type'] = 'display_data';\n",
              "          await google.colab.output.renderOutput(dataTable, element);\n",
              "          const docLink = document.createElement('div');\n",
              "          docLink.innerHTML = docLinkHtml;\n",
              "          element.appendChild(docLink);\n",
              "        }\n",
              "      </script>\n",
              "    </div>\n",
              "  </div>\n",
              "  "
            ]
          },
          "metadata": {},
          "execution_count": 123
        }
      ]
    },
    {
      "cell_type": "code",
      "source": [
        "pd_all_triplet_sets.to_csv(os.path.join(dataset_path, 'subgraph_dataset.csv'))"
      ],
      "metadata": {
        "id": "eTchudqdA0zs"
      },
      "execution_count": 126,
      "outputs": []
    },
    {
      "cell_type": "markdown",
      "source": [
        "## Fine-Tune T5"
      ],
      "metadata": {
        "id": "0DodVhX0Dh_y"
      }
    },
    {
      "cell_type": "code",
      "source": [],
      "metadata": {
        "id": "jQRLAoJXDks3"
      },
      "execution_count": null,
      "outputs": []
    }
  ]
}