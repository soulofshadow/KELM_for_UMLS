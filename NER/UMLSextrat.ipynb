{
 "cells": [
  {
   "attachments": {},
   "cell_type": "markdown",
   "metadata": {},
   "source": [
    "### Load MetaMap instance"
   ]
  },
  {
   "cell_type": "code",
   "execution_count": 55,
   "metadata": {},
   "outputs": [],
   "source": [
    "from pymetamap import MetaMap\n",
    "\n",
    "file_path = \"/Users/soulofshadow/Desktop/UMLSextract/public_mm/bin/metamap18\"\n",
    "mm = MetaMap.get_instance(file_path)"
   ]
  },
  {
   "cell_type": "code",
   "execution_count": 56,
   "metadata": {},
   "outputs": [
    {
     "data": {
      "text/plain": [
       "<function pymetamap.MetaMap.MetaMap.get_instance(metamap_filename, version=None, backend='subprocess', **extra_args)>"
      ]
     },
     "execution_count": 56,
     "metadata": {},
     "output_type": "execute_result"
    }
   ],
   "source": [
    "#starting Metamap server\n",
    "'''\n",
    "cd /Users/soulofshadow/Desktop/UMLSextract/public_mm\n",
    "\n",
    "The SKR/Medpost Part-of-Speech Tagger Server\n",
    "./bin/skrmedpostctl start\n",
    "\n",
    "Word Sense Disambiguation (WSD) Server (optional)\n",
    "./bin/wsdserverctl start\n",
    "'''\n",
    "\n",
    "mm.get_instance"
   ]
  },
  {
   "cell_type": "code",
   "execution_count": 57,
   "metadata": {},
   "outputs": [],
   "source": [
    "#test server actiavted\n",
    "sents = ['Heart Attack', 'John had a huge heart attack']\n",
    "\n",
    "concepts,error = mm.extract_concepts(sents)"
   ]
  },
  {
   "attachments": {},
   "cell_type": "markdown",
   "metadata": {},
   "source": [
    "### Load dataset"
   ]
  },
  {
   "cell_type": "code",
   "execution_count": 85,
   "metadata": {},
   "outputs": [],
   "source": [
    "import os\n",
    "import numpy as np\n",
    "import pandas as pd\n",
    "\n",
    "dataset_path = \"/Users/soulofshadow/Desktop/UMLSextract/sentences.csv\""
   ]
  },
  {
   "cell_type": "code",
   "execution_count": null,
   "metadata": {},
   "outputs": [],
   "source": [
    "#get the text dataset\n",
    "# sentences = pd.read_csv(dataset_path, header=None, sep=\"\\t\")\n",
    "sentences = pd.read_csv(dataset_path)\n",
    "# sentences.columns = ['idk','text']\n",
    "sentences = sentences.drop(['Unnamed: 0'], axis = 1)"
   ]
  },
  {
   "cell_type": "code",
   "execution_count": 87,
   "metadata": {},
   "outputs": [
    {
     "name": "stdout",
     "output_type": "stream",
     "text": [
      "427765\n"
     ]
    },
    {
     "data": {
      "text/html": [
       "<div>\n",
       "<style scoped>\n",
       "    .dataframe tbody tr th:only-of-type {\n",
       "        vertical-align: middle;\n",
       "    }\n",
       "\n",
       "    .dataframe tbody tr th {\n",
       "        vertical-align: top;\n",
       "    }\n",
       "\n",
       "    .dataframe thead th {\n",
       "        text-align: right;\n",
       "    }\n",
       "</style>\n",
       "<table border=\"1\" class=\"dataframe\">\n",
       "  <thead>\n",
       "    <tr style=\"text-align: right;\">\n",
       "      <th></th>\n",
       "      <th>text</th>\n",
       "      <th>entity</th>\n",
       "    </tr>\n",
       "  </thead>\n",
       "  <tbody>\n",
       "    <tr>\n",
       "      <th>0</th>\n",
       "      <td>The hepatic ultrastructural aspect and the hep...</td>\n",
       "      <td>[{'cui': 'C0041623', 'name': 'Ultrastructure',...</td>\n",
       "    </tr>\n",
       "    <tr>\n",
       "      <th>1</th>\n",
       "      <td>The group G streptococcus may be a more common...</td>\n",
       "      <td>[{'cui': 'C0014118', 'name': 'Endocarditis', '...</td>\n",
       "    </tr>\n",
       "    <tr>\n",
       "      <th>2</th>\n",
       "      <td>Effects of a 24 hour fast were studied in 21 o...</td>\n",
       "      <td>[{'cui': 'C0028754', 'name': 'Obesity', 'type'...</td>\n",
       "    </tr>\n",
       "    <tr>\n",
       "      <th>3</th>\n",
       "      <td>The present study has been undertaken to elici...</td>\n",
       "      <td>[{'cui': 'C0342895', 'name': 'Fish-Eye Disease...</td>\n",
       "    </tr>\n",
       "    <tr>\n",
       "      <th>4</th>\n",
       "      <td>Selected androgenic and nonandrogenic steroids...</td>\n",
       "      <td>[{'cui': 'C0002844', 'name': 'Androgens', 'typ...</td>\n",
       "    </tr>\n",
       "  </tbody>\n",
       "</table>\n",
       "</div>"
      ],
      "text/plain": [
       "                                                text  \\\n",
       "0  The hepatic ultrastructural aspect and the hep...   \n",
       "1  The group G streptococcus may be a more common...   \n",
       "2  Effects of a 24 hour fast were studied in 21 o...   \n",
       "3  The present study has been undertaken to elici...   \n",
       "4  Selected androgenic and nonandrogenic steroids...   \n",
       "\n",
       "                                              entity  \n",
       "0  [{'cui': 'C0041623', 'name': 'Ultrastructure',...  \n",
       "1  [{'cui': 'C0014118', 'name': 'Endocarditis', '...  \n",
       "2  [{'cui': 'C0028754', 'name': 'Obesity', 'type'...  \n",
       "3  [{'cui': 'C0342895', 'name': 'Fish-Eye Disease...  \n",
       "4  [{'cui': 'C0002844', 'name': 'Androgens', 'typ...  "
      ]
     },
     "execution_count": 87,
     "metadata": {},
     "output_type": "execute_result"
    }
   ],
   "source": [
    "print(len(sentences))\n",
    "sentences.head()"
   ]
  },
  {
   "cell_type": "code",
   "execution_count": 95,
   "metadata": {},
   "outputs": [],
   "source": [
    "sentences['entity'] = sentences['entity'].where(sentences['entity'].notnull(), None)"
   ]
  },
  {
   "attachments": {},
   "cell_type": "markdown",
   "metadata": {},
   "source": [
    "### Extract entities"
   ]
  },
  {
   "attachments": {},
   "cell_type": "markdown",
   "metadata": {},
   "source": [
    "##### version 1 with iterrows()"
   ]
  },
  {
   "cell_type": "code",
   "execution_count": null,
   "metadata": {},
   "outputs": [],
   "source": [
    "from tqdm import tqdm\n",
    "import re\n",
    "reObj = re.compile(\"\\D\")\n",
    "\n",
    "for index, item in sentences.iterrows():\n",
    "    concepts, error = mm.extract_concepts([item['text']])\n",
    "\n",
    "    if item['entity'] is not None:\n",
    "        continue;\n",
    "\n",
    "    entities = []\n",
    "    for concept in concepts:\n",
    "        if concept.__class__.__name__ == 'ConceptMMI':\n",
    "            entity = {}\n",
    "            entity['cui'] = concept[4]\n",
    "            entity['name'] = concept[3]\n",
    "            entity['type'] = concept[5]\n",
    "\n",
    "            position = reObj.split(concept[8])\n",
    "            position = [int(i) for i in position if i != '']\n",
    "            position = position[:2]\n",
    "\n",
    "            entity['pos'] = position\n",
    "            entity['triger'] = item['text'][position[0]: position[0] + position[1]]\n",
    "\n",
    "            entities.append(entity)\n",
    "    \n",
    "    item['entity'] = entities"
   ]
  },
  {
   "cell_type": "code",
   "execution_count": 91,
   "metadata": {},
   "outputs": [],
   "source": [
    "sentences.to_csv('sentences.csv')"
   ]
  },
  {
   "cell_type": "code",
   "execution_count": 88,
   "metadata": {},
   "outputs": [],
   "source": [
    "for index, item in sentences.iterrows():\n",
    "    if np.isnan(item['entity']):\n",
    "        print(index)\n",
    "        break"
   ]
  },
  {
   "attachments": {},
   "cell_type": "markdown",
   "metadata": {},
   "source": [
    "##### version 2 with tqdm"
   ]
  },
  {
   "cell_type": "code",
   "execution_count": 97,
   "metadata": {},
   "outputs": [],
   "source": [
    "from tqdm import tqdm\n",
    "tqdm.pandas()\n",
    "pd.options.mode.chained_assignment = None  # default='warn'\n",
    "\n",
    "import re\n",
    "reObj = re.compile(\"\\D\")"
   ]
  },
  {
   "cell_type": "code",
   "execution_count": 98,
   "metadata": {},
   "outputs": [],
   "source": [
    "def find_entity(sentence, entities):\n",
    "    if entities is not None:\n",
    "        return entities\n",
    "    \n",
    "    concepts, error = mm.extract_concepts([sentence])\n",
    "    entities = []\n",
    "    for concept in concepts:\n",
    "        if concept.__class__.__name__ == 'ConceptMMI':\n",
    "            entity = {}\n",
    "            entity['cui'] = concept[4]\n",
    "            entity['name'] = concept[3]\n",
    "            entity['type'] = concept[5]\n",
    "\n",
    "            position = reObj.split(concept[8])\n",
    "            position = [int(i) for i in position if i != '']\n",
    "            position = position[:2]\n",
    "\n",
    "            entity['pos'] = position\n",
    "            entity['triger'] = sentence[position[0]: position[0] + position[1]]\n",
    "\n",
    "            entities.append(entity)\n",
    "    return entities"
   ]
  },
  {
   "cell_type": "code",
   "execution_count": 99,
   "metadata": {},
   "outputs": [
    {
     "name": "stderr",
     "output_type": "stream",
     "text": [
      "  1%|          | 4563/427765 [00:00<00:16, 25734.50it/s]### UNKNOWN lexcat for [baw,baw,baw,washing,washing,'wash (cleansing action)']|ev(-719,'C0441648','Washing','Wash (cleansing action)',[washing],[acty],[[[2,2],[1,1],1]],[2],2,yes,no,[],[1339/3],0,0)|['.'-adj,after-prep,both-det,bronchoalveolar-noun,'bronchoalveolar washings'-noun,i-adj,'i.n'-adj,n-adj,washings-noun]\n",
      "### UNKNOWN lexcat for [baw,baw,baw,washing,washing,'wash (cleansing action)']|ev(-627,'C0441648','Washing','Wash (cleansing action)',[washing],[acty],[[[2,2],[1,1],1]],[2],2,no,no,[],[1403/3],0,0)|[antibody-noun,bronchoalveolar-noun,'bronchoalveolar washings'-noun,washings-noun]\n",
      "### UNKNOWN lexcat for [baw,baw,baw,washing,washing,'wash (cleansing action)']|ev(-560,'C0441648','Washing','Wash (cleansing action)',[washing],[acty],[[[5,5],[1,1],1]],[5],5,no,no,[],[1442/3],0,0)|[bronchoalveolar-noun,'bronchoalveolar washings'-noun,in-prep,ratio-noun,the-det,washings-noun]\n",
      "  1%|▏         | 6391/427765 [00:15<22:36, 310.60it/s]  ### UNKNOWN lexcat for [elisa,elisa,elisa,link,link,'links list']|ev(-538,'C1517892','Link','Links List',[link],[inpr],[[[9,9],[1,1],1]],[9],9,no,no,[],[200/5],0,0)|[(-)-noun,antigen-noun,assay-noun,barr-noun,enzym-noun,epstein-noun,'epstein-barr virus'-noun,immunosorbent-adj,linked-adj,of-prep,soluble-noun,'soluble antigen'-noun,to-prep,virus-noun]\n",
      "### UNKNOWN lexcat for [elisa,elisa,elisa,link,link,hyperlink]|ev(-538,'C1704666','Link','Hyperlink',[link],[inpr],[[[9,9],[1,1],1]],[9],9,no,no,[],[200/5],0,0)|[(-)-noun,antigen-noun,assay-noun,barr-noun,enzym-noun,epstein-noun,'epstein-barr virus'-noun,immunosorbent-adj,linked-adj,of-prep,soluble-noun,'soluble antigen'-noun,to-prep,virus-noun]\n",
      "### UNKNOWN lexcat for [elisa,elisa,elisa,link,link,'links list']|ev(-604,'C1517892','Link','Links List',[link],[inpr],[[[2,2],[1,1],1]],[2],2,no,no,[],[341/5],0,0)|[assay-noun,enzym-noun,immunosorbent-adj,linked-adj,test-noun,the-det]\n",
      "### UNKNOWN lexcat for [elisa,elisa,elisa,link,link,hyperlink]|ev(-604,'C1704666','Link','Hyperlink',[link],[inpr],[[[2,2],[1,1],1]],[2],2,no,no,[],[341/5],0,0)|[assay-noun,enzym-noun,immunosorbent-adj,linked-adj,test-noun,the-det]\n",
      "  2%|▏         | 6428/427765 [01:39<11:20:21, 10.32it/s]\n",
      "### MetaMap ERROR: MetaMap supports ASCII-only input.\n",
      "The input contains 2 non-ASCII chars: \"üü\".\n",
      "Remove all non-ASCII chars from input before trying again!\n",
      "  2%|▏         | 6560/427765 [06:54<288:37:12,  2.47s/it]### UNKNOWN lexcat for [peg,peg,peg,glycol,polyethylene,'glycol, polyethylene','polyethylene glycols']|ev(-575,'C0032483','Glycol, polyethylene','Polyethylene Glycols',[polyethylene,glycol],[orch,phsu],[[[7,7],[1,2],0]],[7],7,no,no,[],[144/3],0,0)|[growth-noun,of-prep,polyethyleneglycol-noun,promoting-adj,properties-noun,sera-noun,such-det,the-det,treated-adj]\n",
      "### UNKNOWN lexcat for [peg,peg,peg,glycol,polyethylene,'glycol, polyethylene','polyethylene glycols']|ev(-760,'C0032483','Glycol, polyethylene','Polyethylene Glycols',[polyethylene,glycol],[orch,phsu],[[[4,4],[1,2],0]],[4],4,yes,no,[],[616/3],0,0)|[by-prep,polyethyleneglycol-noun,reduced-verb,the-det,treatment-noun]\n",
      "### UNKNOWN lexcat for [peg,peg,peg,glycol,polyethylene,'glycol, polyethylene','polyethylene glycols']|ev(-569,'C0032483','Glycol, polyethylene','Polyethylene Glycols',[polyethylene,glycol],[orch,phsu],[[[8,8],[1,2],0]],[8],8,no,no,[],[683/3],0,0)|[(-)-noun,and-noun,cattle-noun,disease-noun,foot-noun,'foot-and-mouth disease'-noun,for-prep,from-prep,mouth-noun,polyethyleneglycol-noun,production-noun,sera-noun,treated-adj,vaccinated-adj,vaccine-noun]\n",
      "### UNKNOWN lexcat for [peg,peg,peg,glycol,polyethylene,'glycol, polyethylene','polyethylene glycols']|ev(-790,'C0032483','Glycol, polyethylene','Polyethylene Glycols',[polyethylene,glycol],[orch,phsu],[[[3,3],[1,2],0]],[3],3,yes,no,[],[822/3],0,0)|[polyethyleneglycol-noun,precipitated-verb,with-prep]\n",
      "  2%|▏         | 6563/427765 [07:04<356:02:23,  3.04s/it]\n",
      "### MetaMap ERROR: MetaMap supports ASCII-only input.\n",
      "The input contains 2 non-ASCII chars: \"üü\".\n",
      "Remove all non-ASCII chars from input before trying again!\n",
      "  2%|▏         | 6602/427765 [08:35<225:03:10,  1.92s/it]\n",
      "### MetaMap ERROR: MetaMap supports ASCII-only input.\n",
      "The input contains 1 non-ASCII char: \"á\".\n",
      "Remove all non-ASCII chars from input before trying again!\n",
      "  2%|▏         | 6683/427765 [11:58<276:46:22,  2.37s/it]### UNKNOWN lexcat for [eeg,eeg,eeg,electroencephalography,electroencephalography,electroencephalography]|ev(-514,'C0013819','ELECTROENCEPHALOGRAPHY','Electroencephalography',[electroencephalography],[diap],[[[4,4],[1,1],3]],[4],4,no,no,[],[549/3],0,0)|[application-noun,electroencephalographic-adj,of-prep,recordings-noun,sleep-noun,the-det]\n",
      "### UNKNOWN lexcat for [eeg,eeg,eeg,electroencephalograph,electroencephalograph,'standard eeg machine']|ev(-514,'C0443310','ELECTROENCEPHALOGRAPH','Standard EEG machine',[electroencephalograph],[medd],[[[4,4],[1,1],3]],[4],4,no,no,[],[549/3],0,0)|[application-noun,electroencephalographic-adj,of-prep,recordings-noun,sleep-noun,the-det]\n",
      "  2%|▏         | 6771/427765 [15:24<325:12:41,  2.78s/it]\n",
      "### MetaMap ERROR: MetaMap supports ASCII-only input.\n",
      "The input contains 4 non-ASCII chars: \"üüüü\".\n",
      "Remove all non-ASCII chars from input before trying again!\n",
      "  2%|▏         | 6803/427765 [18:36<273:48:45,  2.34s/it] ### UNKNOWN lexcat for [hvs,hvs,hvs,saimirii,saimirii,'genus saimiri']|ev(-637,'C0036055','Saimirii','Genus Saimiri',[saimirii],[mamm],[[[2,2],[1,1],0]],[2],2,no,no,[],[109/3],0,0)|[antigen-noun,herpesvirus-noun,'herpesvirus saimiri'-noun,induced-adj,membrane-noun,'membrane antigen'-noun,saimiri-noun,the-det]\n",
      "### UNKNOWN lexcat for [hvs,hvs,hvs,saimirii,saimirii,'genus saimiri']|ev(-568,'C0036055','Saimirii','Genus Saimiri',[saimirii],[mamm],[[[3,3],[1,1],0]],[3],3,no,no,[],[386/3],0,0)|[(-)-adj,absorption-noun,after-prep,an-det,anti-adj,'anti-membrane'-adj,antigen-noun,cells-noun,herpesvirus-noun,'herpesvirus saimiri'-noun,infected-adj,membrane-adj,of-prep,positive-noun,saimiri-noun,serum-noun,to-prep]\n",
      "  2%|▏         | 6850/427765 [20:18<242:39:44,  2.08s/it]### UNKNOWN lexcat for [tgsr,tgsr,tgsr,rate,rate,'rating (action)']|ev(-793,'C0871208','Rate','Rating (action)',[rate],[acty],[[[3,3],[1,1],1]],[3],3,yes,no,[],[1366/4],0,0)|[in-prep,rates-noun,secretion-noun,'secretion rates'-noun,triglyceride-noun]\n",
      "### UNKNOWN lexcat for [tgsr,tgsr,tgsr,rate,rate,rate]|ev(-793,'C1521828','Rate','Rate',[rate],[qnco],[[[3,3],[1,1],1]],[3],3,yes,no,[],[1366/4],0,0)|[in-prep,rates-noun,secretion-noun,'secretion rates'-noun,triglyceride-noun]\n",
      "  2%|▏         | 7007/427765 [26:12<372:28:16,  3.19s/it]### UNKNOWN lexcat for [kb,kb,kb,kilobase,kilobase,kilobase]|ev(-714,'C0582519',kilobase,kilobase,[kilobase],[qnco],[[[7,7],[1,1],1]],[7],7,yes,no,[],[663/2],0,0)|['.'-real_number,'0'-real_number,'0.5'-real_number,'1'-real_number,'1.5'-real_number,'5'-real_number,kilobases-noun,only-adv,to-prep]\n",
      "### UNKNOWN lexcat for [kb,kb,kb,kilobase,kilobase,kilobase]|ev(-726,'C0582519',kilobase,kilobase,[kilobase],[qnco],[[[5,5],[1,1],1]],[5],5,yes,no,[],[1601/2],0,0)|['5'-integer,'6'-integer,about-adv,kilobases-noun,to-prep]\n",
      "### UNKNOWN lexcat for [kb,kb,kb,kilobase,kilobase,kilobase]|ev(-714,'C0582519',kilobase,kilobase,[kilobase],[qnco],[[[7,7],[1,1],1]],[7],7,yes,no,[],[1716/2],0,0)|['.'-real_number,'0'-real_number,'0.3'-real_number,'0.5'-real_number,'3'-real_number,'5'-real_number,kilobases-noun,only-adv,to-prep]\n",
      "  2%|▏         | 7220/427765 [35:16<251:46:47,  2.16s/it]### UNKNOWN lexcat for [pha,pha,pha,phytohemagglutinin,phytohemagglutinin,phytohemagglutinins]|ev(-790,'C0031858','Phytohemagglutinin','Phytohemagglutinins',[phytohemagglutinin],[aapp,imft,irda],[[[3,3],[1,1],0]],[3],3,yes,no,[],[325/3],0,0)|[by-prep,phytohaemagglutinin-noun,triggered-verb]\n",
      "  2%|▏         | 7244/427765 [36:15<285:13:50,  2.44s/it]### UNKNOWN lexcat for [psss,psss,psss,system,system,system]|ev(-779,'C0449913','System','System',[system],[ftcn],[[[4,4],[1,1],1]],[4],4,yes,no,[],[312/4],0,0)|[prostaglandin-noun,rabbit-noun,synthetase-noun,systems-noun]\n",
      "### UNKNOWN lexcat for [psss,psss,psss,system,system,'system - kit']|ev(-779,'C1553451','System','System - kit',[system],[mnob],[[[4,4],[1,1],1]],[4],4,yes,no,[],[312/4],0,0)|[prostaglandin-noun,rabbit-noun,synthetase-noun,systems-noun]\n",
      "### UNKNOWN lexcat for [psss,psss,psss,system,system,'device system']|ev(-779,'C3888058','System','Device system',[system],[mnob],[[[4,4],[1,1],1]],[4],4,yes,no,[],[312/4],0,0)|[prostaglandin-noun,rabbit-noun,synthetase-noun,systems-noun]\n",
      "### UNKNOWN lexcat for [psss,psss,psss,system,system,'system (unit of presentation)']|ev(-779,'C4318427','System','System (unit of presentation)',[system],[qnco],[[[4,4],[1,1],1]],[4],4,yes,no,[],[312/4],0,0)|[prostaglandin-noun,rabbit-noun,synthetase-noun,systems-noun]\n",
      "### UNKNOWN lexcat for [psss,psss,psss,system,system,system]|ev(-793,'C0449913','System','System',[system],[ftcn],[[[3,3],[1,1],1]],[3],3,yes,no,[],[905/4],0,0)|[against-prep,both-det,prostaglandin-noun,synthetase-noun,systems-noun]\n",
      "### UNKNOWN lexcat for [psss,psss,psss,system,system,'system - kit']|ev(-793,'C1553451','System','System - kit',[system],[mnob],[[[3,3],[1,1],1]],[3],3,yes,no,[],[905/4],0,0)|[against-prep,both-det,prostaglandin-noun,synthetase-noun,systems-noun]\n",
      "### UNKNOWN lexcat for [psss,psss,psss,system,system,'device system']|ev(-793,'C3888058','System','Device system',[system],[mnob],[[[3,3],[1,1],1]],[3],3,yes,no,[],[905/4],0,0)|[against-prep,both-det,prostaglandin-noun,synthetase-noun,systems-noun]\n",
      "### UNKNOWN lexcat for [psss,psss,psss,system,system,'system (unit of presentation)']|ev(-793,'C4318427','System','System (unit of presentation)',[system],[qnco],[[[3,3],[1,1],1]],[3],3,yes,no,[],[905/4],0,0)|[against-prep,both-det,prostaglandin-noun,synthetase-noun,systems-noun]\n",
      "  2%|▏         | 7288/427765 [38:22<480:37:13,  4.11s/it]### UNKNOWN lexcat for [pha,pha,pha,phytohemagglutinin,phytohemagglutinin,phytohemagglutinins]|ev(-770,'C0031858','Phytohemagglutinin','Phytohemagglutinins',[phytohemagglutinin],[aapp,imft,irda],[[[4,4],[1,1],0]],[4],4,yes,no,[],[911/3],0,0)|[less-adv,phytohaemagglutinin-noun,to-prep,well-adv]\n",
      "### UNKNOWN lexcat for [pha,pha,pha,phytohemagglutinin,phytohemagglutinin,phytohemagglutinins]|ev(-593,'C0031858','Phytohemagglutinin','Phytohemagglutinins',[phytohemagglutinin],[aapp,imft,irda],[[[5,5],[1,1],0]],[5],5,no,no,[],[1237/3],0,0)|[abnormal-adj,of-prep,phytohaemagglutinin-noun,responses-noun,the-det]\n",
      "  2%|▏         | 7353/427765 [40:59<320:45:41,  2.75s/it]\n",
      "### MetaMap ERROR: MetaMap supports ASCII-only input.\n",
      "The input contains 1 non-ASCII char: \"ü\".\n",
      "Remove all non-ASCII chars from input before trying again!\n",
      "  2%|▏         | 7370/427765 [41:38<202:16:46,  1.73s/it]\n",
      "### MetaMap ERROR: MetaMap supports ASCII-only input.\n",
      "The input contains 1 non-ASCII char: \"é\".\n",
      "Remove all non-ASCII chars from input before trying again!\n",
      "  2%|▏         | 7414/427765 [43:12<287:19:57,  2.46s/it]\n",
      "### MetaMap ERROR: MetaMap supports ASCII-only input.\n",
      "The input contains 1 non-ASCII char: \"á\".\n",
      "Remove all non-ASCII chars from input before trying again!\n",
      "  2%|▏         | 7497/427765 [46:40<333:30:36,  2.86s/it]\n",
      "### MetaMap ERROR: MetaMap supports ASCII-only input.\n",
      "The input contains 1 non-ASCII char: \"é\".\n",
      "Remove all non-ASCII chars from input before trying again!\n",
      "  2%|▏         | 7513/427765 [47:14<284:58:15,  2.44s/it]\n",
      "### MetaMap ERROR: MetaMap supports ASCII-only input.\n",
      "The input contains 4 non-ASCII chars: \"éééé\".\n",
      "Remove all non-ASCII chars from input before trying again!\n",
      "  2%|▏         | 7637/427765 [51:56<266:42:06,  2.29s/it]### UNKNOWN lexcat for [rr,rr,rr,rama,rama,rama]|ev(-589,'C0445586','Rama','Rama',[rama],[inpr],[[[2,2],[1,1],3]],[2],2,no,no,[],[205/2],0,0)|[raman-adj,resonance-noun,spectra-noun]\n",
      "### UNKNOWN lexcat for [rr,rr,rr,rama,rama,rama]|ev(-755,'C0445586','Rama','Rama',[rama],[inpr],[[[3,3],[1,1],3]],[3],3,yes,no,[],[330/2],0,0)|[neither-det,raman-adj,resonance-noun]\n",
      "  2%|▏         | 7657/427765 [52:48<302:17:08,  2.59s/it]\n",
      "### MetaMap ERROR: MetaMap supports ASCII-only input.\n",
      "The input contains 2 non-ASCII chars: \"üü\".\n",
      "Remove all non-ASCII chars from input before trying again!\n",
      "  2%|▏         | 7665/427765 [53:11<339:34:51,  2.91s/it]\n",
      "### MetaMap ERROR: MetaMap supports ASCII-only input.\n",
      "The input contains 1 non-ASCII char: \"ö\".\n",
      "Remove all non-ASCII chars from input before trying again!\n",
      "  2%|▏         | 7687/427765 [54:03<220:51:18,  1.89s/it]\n",
      "### MetaMap ERROR: MetaMap supports ASCII-only input.\n",
      "The input contains 2 non-ASCII chars: \"éé\".\n",
      "Remove all non-ASCII chars from input before trying again!\n",
      "  2%|▏         | 7745/427765 [56:19<307:41:31,  2.64s/it]### UNKNOWN lexcat for [ec,ec,ec,embryos,embryos,embryo]|ev(-566,'C0013935','Embryos','Embryo',[embryos],[emst],[[[2,2],[1,1],3]],[2],2,no,no,[],[329/2],0,0)|[carcionma-noun,embryonal-adj,nuclear-noun,'nuclear rna'-noun,rna-noun,that-compl,total-adj]\n",
      "### UNKNOWN lexcat for [ec,ec,ec,embryo,embryo,'human embryo']|ev(-566,'C0868971','EMBRYO','Human embryo',[embryo],[emst],[[[2,2],[1,1],3]],[2],2,no,no,[],[329/2],0,0)|[carcionma-noun,embryonal-adj,nuclear-noun,'nuclear rna'-noun,rna-noun,that-compl,total-adj]\n",
      "  2%|▏         | 7755/427765 [56:43<239:55:18,  2.06s/it]\n",
      "### MetaMap ERROR: MetaMap supports ASCII-only input.\n",
      "The input contains 3 non-ASCII chars: \"δΔδ\".\n",
      "Remove all non-ASCII chars from input before trying again!\n",
      "  2%|▏         | 7795/427765 [58:20<202:02:37,  1.73s/it]\n",
      "### MetaMap ERROR: MetaMap supports ASCII-only input.\n",
      "The input contains 1 non-ASCII char: \"ö\".\n",
      "Remove all non-ASCII chars from input before trying again!\n",
      "  2%|▏         | 7809/427765 [58:54<310:47:36,  2.66s/it]### UNKNOWN lexcat for [pic,pic,pic,provocation,provocation,provocation]|ev(-589,'C0449428','Provocation','Provocation',[provocation],[phpr],[[[1,1],[1,1],3]],[1],1,no,no,[],[296/3],0,0)|[after-prep,challenge-noun,inhalation-noun,provocative-adj]\n",
      "### UNKNOWN lexcat for [pic,pic,pic,provocation,provocation,provocation]|ev(-688,'C0449428','Provocation','Provocation',[provocation],[phpr],[[[3,3],[1,1],3]],[3],3,yes,no,[],[596/3],0,0)|[challenge-noun,inhalation-noun,provocative-adj,responded-verb,to-prep]\n",
      "  2%|▏         | 7819/427765 [59:18<270:31:05,  2.32s/it]\n",
      "### MetaMap ERROR: MetaMap supports ASCII-only input.\n",
      "The input contains 2 non-ASCII chars: \"öö\".\n",
      "Remove all non-ASCII chars from input before trying again!\n",
      "  2%|▏         | 7832/427765 [59:42<216:18:26,  1.85s/it]\n",
      "### MetaMap ERROR: MetaMap supports ASCII-only input.\n",
      "The input contains 1 non-ASCII char: \"ü\".\n",
      "Remove all non-ASCII chars from input before trying again!\n",
      "  2%|▏         | 7891/427765 [1:02:02<316:07:35,  2.71s/it]\n",
      "### MetaMap ERROR: MetaMap supports ASCII-only input.\n",
      "The input contains 2 non-ASCII chars: \"éé\".\n",
      "Remove all non-ASCII chars from input before trying again!\n",
      "  2%|▏         | 8049/427765 [1:08:25<282:01:43,  2.42s/it]### UNKNOWN lexcat for [opca,opca,opca,atrophic,atrophic,'atrophic condition of skin']|ev(-497,'C0151514','Atrophic','Atrophic condition of skin',[atrophic],[dsyn],[[[6,6],[1,1],3]],[6],6,no,no,[],[434/4],0,0)|[a-noun,atrophia-noun,cerebellare-noun,disease-noun,group-noun,'group a'-noun,in-prep,of-prep,olivio-noun,paradoxal-adj,ponto-noun,sleep-noun,specific-noun,'specific disease'-noun,the-det]\n",
      "### UNKNOWN lexcat for [opca,opca,opca,atrophic,atrophic,atrophic]|ev(-497,'C0333641','Atrophic','Atrophic',[atrophic],[patf],[[[6,6],[1,1],3]],[6],6,no,no,[],[434/4],0,0)|[a-noun,atrophia-noun,cerebellare-noun,disease-noun,group-noun,'group a'-noun,in-prep,of-prep,olivio-noun,paradoxal-adj,ponto-noun,sleep-noun,specific-noun,'specific disease'-noun,the-det]\n",
      "  2%|▏         | 8053/427765 [1:08:35<308:08:39,  2.64s/it]### UNKNOWN lexcat for [ddc,ddc,ddc,diethyldithiocarbamate,diethyldithiocarbamate,diethyldithiocarbamate]|ev(-833,'C0086154','Diethyldithiocarbamate','Diethyldithiocarbamate',[diethyldithiocarbamate],[orch,phsu],[[[3,4],[1,1],0]],[3,4],4,yes,no,[],[299/3],0,0)|[(-)-noun,by-prep,diethyl-noun,'diethyl-dithiocarbamate'-noun,dithiocarbamate-noun,inhibited-verb]\n",
      "### UNKNOWN lexcat for [ddc,ddc,ddc,diethyldithiocarbamate,diethyldithiocarbamate,diethyldithiocarbamate]|ev(-1000,'C0086154','Diethyldithiocarbamate','Diethyldithiocarbamate',[diethyldithiocarbamate],[orch,phsu],[[[1,2],[1,1],0]],[1,2],2,yes,no,[],[422/3],0,0)|[(-)-noun,diethyl-noun,'diethyl-dithiocarbamate'-noun,dithiocarbamate-noun]\n",
      "  2%|▏         | 8054/427765 [1:08:37<293:56:57,  2.52s/it]### UNKNOWN lexcat for [ddc,ddc,ddc,dithiocarbamate,diethyl,'diethyl dithiocarbamate','calcium glutamate']|ev(-1000,'C0556252','Diethyl Dithiocarbamate','Calcium glutamate',[diethyl,dithiocarbamate],[aapp],[[[1,1],[1,2],0]],[1],1,yes,no,[],[198/3],0,0)|[diethyldithiocarbamate-noun]\n",
      "### UNKNOWN lexcat for [ddc,ddc,ddc,dithiocarbamate,diethyl,'diethyl dithiocarbamate','calcium glutamate']|ev(-593,'C0556252','Diethyl Dithiocarbamate','Calcium glutamate',[diethyl,dithiocarbamate],[aapp],[[[5,5],[1,2],0]],[5],5,no,no,[],[349/3],0,0)|[background-noun,diethyldithiocarbamate-noun,of-prep,on-prep,the-det]\n",
      "### UNKNOWN lexcat for [ddc,ddc,ddc,dithiocarbamate,diethyl,'diethyl dithiocarbamate','calcium glutamate']|ev(-694,'C0556252','Diethyl Dithiocarbamate','Calcium glutamate',[diethyl,dithiocarbamate],[aapp],[[[1,1],[1,2],0]],[1],1,no,no,[],[583/3],0,0)|[diethyldithiocarbamate-noun,dose-noun,the-det]\n",
      "  2%|▏         | 8094/427765 [1:10:19<381:11:20,  3.27s/it]\n",
      "### MetaMap ERROR: MetaMap supports ASCII-only input.\n",
      "The input contains 2 non-ASCII chars: \"éá\".\n",
      "Remove all non-ASCII chars from input before trying again!\n",
      "  2%|▏         | 8106/427765 [1:11:20<332:47:03,  2.85s/it] ### UNKNOWN lexcat for [kb,kb,kb,kilobase,kilobase,kilobase]|ev(-612,'C0582519',kilobase,kilobase,[kilobase],[qnco],[[[3,3],[1,1],1]],[3],3,no,no,[],[457/2],0,0)|['.'-real_number,'0'-real_number,'3'-real_number,'3.0'-real_number,kilobases-noun,mrna-noun]\n",
      "### UNKNOWN lexcat for [kb,kb,kb,kilobase,kilobase,kilobase]|ev(-612,'C0582519',kilobase,kilobase,[kilobase],[qnco],[[[3,3],[1,1],1]],[3],3,no,no,[],[621/2],0,0)|['.'-real_number,'0'-real_number,'2'-real_number,'2.0'-real_number,kilobases-noun,mrna-noun,the-det]\n",
      "### UNKNOWN lexcat for [kb,kb,kb,kilobase,kilobase,kilobase]|ev(-612,'C0582519',kilobase,kilobase,[kilobase],[qnco],[[[3,3],[1,1],1]],[3],3,no,no,[],[763/2],0,0)|['.'-real_number,'0'-real_number,'3'-real_number,'3.0'-real_number,kilobases-noun,mrna-noun,the-det]\n",
      "### UNKNOWN lexcat for [kb,kb,kb,kilobase,kilobase,kilobase]|ev(-762,'C0582519',kilobase,kilobase,[kilobase],[qnco],[[[3,3],[1,1],1]],[3],3,yes,no,[],[841/2],0,0)|['.'-real_number,'0'-real_number,'2'-real_number,'2.0'-real_number,'68'-integer,kilobases-noun,mrna-noun,specified-adj,the-det,vmw-noun]\n",
      "### UNKNOWN lexcat for [kb,kb,kb,kilobase,kilobase,kilobase]|ev(-714,'C0582519',kilobase,kilobase,[kilobase],[qnco],[[[6,6],[1,1],1]],[6],6,yes,no,[],[948/2],0,0)|['.'-real_number,'4'-real_number,'4.7'-real_number,'7'-real_number,by-prep,kilobases-noun,mrna-noun,specified-verb,the-det]\n",
      "  2%|▏         | 8109/427765 [1:11:32<430:18:53,  3.69s/it]### UNKNOWN lexcat for [bt,bt,bt,tongue,blue,'blue tongue','blue tongue']|ev(-760,'C4284010','Blue tongue','Blue tongue',[blue,tongue],[fndg],[[[1,1],[1,2],0]],[1],1,yes,no,[],[445/2],0,0)|['6'-integer,barbary-noun,'barbary sheep'-noun,bluetongue-noun,in-prep,sheep-noun]\n",
      "  2%|▏         | 8124/427765 [1:12:06<302:26:43,  2.59s/it]### UNKNOWN lexcat for [dedtc,dedtc,dedtc,dithiocarbamate,diethyl,'diethyl dithiocarbamate','calcium glutamate']|ev(-571,'C0556252','Diethyl Dithiocarbamate','Calcium glutamate',[diethyl,dithiocarbamate],[aapp],[[[11,11],[1,2],0]],[11],11,no,no,[],[251/5],0,0)|[alpha-noun,antiamnestic-adj,characteristics-noun,clonidine-noun,diethyldithiocarbamate-noun,noradrenergic-adj,of-prep,receptor-noun,stimulator-noun,the-det]\n",
      "### UNKNOWN lexcat for [dedtc,dedtc,dedtc,dithiocarbamate,diethyl,'diethyl dithiocarbamate','calcium glutamate']|ev(-586,'C0556252','Diethyl Dithiocarbamate','Calcium glutamate',[diethyl,dithiocarbamate],[aapp],[[[4,4],[1,2],0]],[4],4,no,no,[],[1196/5],0,0)|[amnesia-noun,diethyldithiocarbamate-noun,from-prep,induced-adj,no-det,recovery-noun]\n",
      "  2%|▏         | 8130/427765 [1:12:21<303:12:09,  2.60s/it]\n",
      "### MetaMap ERROR: MetaMap supports ASCII-only input.\n",
      "The input contains 1 non-ASCII char: \"ï\".\n",
      "Remove all non-ASCII chars from input before trying again!\n",
      "  2%|▏         | 8220/427765 [1:15:58<282:39:17,  2.43s/it]\n",
      "### MetaMap ERROR: MetaMap supports ASCII-only input.\n",
      "The input contains 1 non-ASCII char: \"ö\".\n",
      "Remove all non-ASCII chars from input before trying again!\n",
      "  2%|▏         | 8251/427765 [1:17:12<352:05:38,  3.02s/it]### UNKNOWN lexcat for [acth,acth,acth,adrenocorticotropin,adrenocorticotropin,corticotropin]|ev(-604,'C0001655','Adrenocorticotropin','Corticotropin',[adrenocorticotropin],[aapp,horm,phsu],[[[4,4],[1,1],0]],[4],4,no,no,[],[340/4],0,0)|[adrenocorticotrophin-noun,concentrations-noun,of-prep,the-det]\n",
      "### UNKNOWN lexcat for [acth,acth,acth,adrenocorticotropin,adrenocorticotropin,'recombinant corticotropin']|ev(-604,'C1523997','Adrenocorticotropin','Recombinant Corticotropin',[adrenocorticotropin],[aapp,horm,phsu],[[[4,4],[1,1],0]],[4],4,no,no,[],[340/4],0,0)|[adrenocorticotrophin-noun,concentrations-noun,of-prep,the-det]\n",
      "### UNKNOWN lexcat for [acth,acth,acth,adrenocorticotropin,adrenocorticotropin,'corticotropin, human']|ev(-604,'C3818725','Adrenocorticotropin','corticotropin, human',[adrenocorticotropin],[aapp,horm,phsu],[[[4,4],[1,1],0]],[4],4,no,no,[],[340/4],0,0)|[adrenocorticotrophin-noun,concentrations-noun,of-prep,the-det]\n",
      "### UNKNOWN lexcat for [acth,acth,acth,adrenocorticotropin,adrenocorticotropin,corticotropin]|ev(-573,'C0001655','Adrenocorticotropin','Corticotropin',[adrenocorticotropin],[aapp,horm,phsu],[[[2,2],[1,1],0]],[2],2,no,no,[],[626/4],0,0)|[adrenocorticotrophin-noun,concentrations-noun,control-noun,'control values'-noun,corticosterone-noun,mean-noun,secretion-noun,stimulated-adj,to-prep,up-prep,'up to'-prep,values-noun]\n",
      "### UNKNOWN lexcat for [acth,acth,acth,adrenocorticotropin,adrenocorticotropin,'recombinant corticotropin']|ev(-573,'C1523997','Adrenocorticotropin','Recombinant Corticotropin',[adrenocorticotropin],[aapp,horm,phsu],[[[2,2],[1,1],0]],[2],2,no,no,[],[626/4],0,0)|[adrenocorticotrophin-noun,concentrations-noun,control-noun,'control values'-noun,corticosterone-noun,mean-noun,secretion-noun,stimulated-adj,to-prep,up-prep,'up to'-prep,values-noun]\n",
      "### UNKNOWN lexcat for [acth,acth,acth,adrenocorticotropin,adrenocorticotropin,'corticotropin, human']|ev(-573,'C3818725','Adrenocorticotropin','corticotropin, human',[adrenocorticotropin],[aapp,horm,phsu],[[[2,2],[1,1],0]],[2],2,no,no,[],[626/4],0,0)|[adrenocorticotrophin-noun,concentrations-noun,control-noun,'control values'-noun,corticosterone-noun,mean-noun,secretion-noun,stimulated-adj,to-prep,up-prep,'up to'-prep,values-noun]\n",
      "### UNKNOWN lexcat for [acth,acth,acth,adrenocorticotropin,adrenocorticotropin,corticotropin]|ev(-573,'C0001655','Adrenocorticotropin','Corticotropin',[adrenocorticotropin],[aapp,horm,phsu],[[[8,8],[1,1],0]],[8],8,no,no,[],[1588/4],0,0)|[adrenocorticotrophin-noun,an-det,in-prep,irreplaceable-adj,mechanism-noun,of-prep,rhythms-noun,role-noun,secretory-adj,the-det]\n",
      "### UNKNOWN lexcat for [acth,acth,acth,adrenocorticotropin,adrenocorticotropin,'recombinant corticotropin']|ev(-573,'C1523997','Adrenocorticotropin','Recombinant Corticotropin',[adrenocorticotropin],[aapp,horm,phsu],[[[8,8],[1,1],0]],[8],8,no,no,[],[1588/4],0,0)|[adrenocorticotrophin-noun,an-det,in-prep,irreplaceable-adj,mechanism-noun,of-prep,rhythms-noun,role-noun,secretory-adj,the-det]\n",
      "### UNKNOWN lexcat for [acth,acth,acth,adrenocorticotropin,adrenocorticotropin,'corticotropin, human']|ev(-573,'C3818725','Adrenocorticotropin','corticotropin, human',[adrenocorticotropin],[aapp,horm,phsu],[[[8,8],[1,1],0]],[8],8,no,no,[],[1588/4],0,0)|[adrenocorticotrophin-noun,an-det,in-prep,irreplaceable-adj,mechanism-noun,of-prep,rhythms-noun,role-noun,secretory-adj,the-det]\n",
      "### UNKNOWN lexcat for [acth,acth,acth,adrenocorticotropin,adrenocorticotropin,corticotropin]|ev(-748,'C0001655','Adrenocorticotropin','Corticotropin',[adrenocorticotropin],[aapp,horm,phsu],[[[6,6],[1,1],0]],[6],6,yes,no,[],[1776/4],0,0)|[adrenocorticotrophin-noun,after-prep,of-prep,persist-verb,rhythms-noun,suppression-noun,the-det]\n",
      "### UNKNOWN lexcat for [acth,acth,acth,adrenocorticotropin,adrenocorticotropin,'recombinant corticotropin']|ev(-748,'C1523997','Adrenocorticotropin','Recombinant Corticotropin',[adrenocorticotropin],[aapp,horm,phsu],[[[6,6],[1,1],0]],[6],6,yes,no,[],[1776/4],0,0)|[adrenocorticotrophin-noun,after-prep,of-prep,persist-verb,rhythms-noun,suppression-noun,the-det]\n",
      "### UNKNOWN lexcat for [acth,acth,acth,adrenocorticotropin,adrenocorticotropin,'corticotropin, human']|ev(-748,'C3818725','Adrenocorticotropin','corticotropin, human',[adrenocorticotropin],[aapp,horm,phsu],[[[6,6],[1,1],0]],[6],6,yes,no,[],[1776/4],0,0)|[adrenocorticotrophin-noun,after-prep,of-prep,persist-verb,rhythms-noun,suppression-noun,the-det]\n",
      "  2%|▏         | 8369/427765 [1:21:51<260:58:32,  2.24s/it]### UNKNOWN lexcat for [ceot,ceot,ceot,conduct,conduct,behavior]|ev(-719,'C0004927','Conduct','Behavior',[conduct],[bhvr],[[[1,1],[1,1],1]],[1],1,yes,no,[],[426/4],0,0)|[calcifying-noun,conducted-verb,epithelial-adj,odontogenic-adj,on-prep,tumor-noun]\n",
      "### UNKNOWN lexcat for [ceot,ceot,ceot,conduct,conduct,behavior]|ev(-719,'C0004927','Conduct','Behavior',[conduct],[bhvr],[[[1,1],[1,1],1]],[1],1,yes,no,[],[555/4],0,0)|[calcifying-noun,conducted-verb,epithelial-adj,odontogenic-adj,on-prep,tumor-noun]\n",
      "### UNKNOWN lexcat for [ceot,ceot,ceot,conduct,conduct,behavior]|ev(-719,'C0004927','Conduct','Behavior',[conduct],[bhvr],[[[1,1],[1,1],1]],[1],1,yes,no,[],[638/4],0,0)|[calcifying-noun,conducted-verb,epithelial-adj,odontogenic-adj,on-prep,tumor-noun]\n",
      "### UNKNOWN lexcat for [ceot,ceot,ceot,conduct,conduct,behavior]|ev(-719,'C0004927','Conduct','Behavior',[conduct],[bhvr],[[[1,1],[1,1],1]],[1],1,yes,no,[],[875/4],0,0)|[calcifying-noun,conducted-verb,epithelial-adj,odontogenic-adj,on-prep,tumor-noun]\n",
      "  2%|▏         | 8408/427765 [1:23:18<222:28:09,  1.91s/it]\n",
      "### MetaMap ERROR: MetaMap supports ASCII-only input.\n",
      "The input contains 1 non-ASCII char: \"ï\".\n",
      "Remove all non-ASCII chars from input before trying again!\n",
      "  2%|▏         | 8425/427765 [1:23:55<227:19:01,  1.95s/it]\n",
      "### MetaMap ERROR: MetaMap supports ASCII-only input.\n",
      "The input contains 1 non-ASCII char: \"è\".\n",
      "Remove all non-ASCII chars from input before trying again!\n",
      "  2%|▏         | 8463/427765 [1:25:18<219:59:53,  1.89s/it]\n",
      "### MetaMap ERROR: MetaMap supports ASCII-only input.\n",
      "The input contains 2 non-ASCII chars: \"éé\".\n",
      "Remove all non-ASCII chars from input before trying again!\n",
      "  2%|▏         | 8475/427765 [1:25:50<236:47:07,  2.03s/it]\n",
      "### MetaMap ERROR: MetaMap supports ASCII-only input.\n",
      "The input contains 1 non-ASCII char: \"õ\".\n",
      "Remove all non-ASCII chars from input before trying again!\n",
      "  2%|▏         | 8520/427765 [1:27:40<294:53:48,  2.53s/it]\n",
      "### MetaMap ERROR: MetaMap supports ASCII-only input.\n",
      "The input contains 1 non-ASCII char: \"ø\".\n",
      "Remove all non-ASCII chars from input before trying again!\n",
      "  2%|▏         | 8608/427765 [1:31:19<354:50:52,  3.05s/it]\n",
      "### MetaMap ERROR: MetaMap supports ASCII-only input.\n",
      "The input contains 1 non-ASCII char: \"ö\".\n",
      "Remove all non-ASCII chars from input before trying again!\n",
      "  2%|▏         | 8617/427765 [1:31:43<347:22:30,  2.98s/it]\n",
      "### MetaMap ERROR: MetaMap supports ASCII-only input.\n",
      "The input contains 1 non-ASCII char: \"ç\".\n",
      "Remove all non-ASCII chars from input before trying again!\n",
      "  2%|▏         | 8713/427765 [1:35:34<312:54:19,  2.69s/it]\n",
      "### MetaMap ERROR: MetaMap supports ASCII-only input.\n",
      "The input contains 1 non-ASCII char: \"ä\".\n",
      "Remove all non-ASCII chars from input before trying again!\n",
      "  2%|▏         | 8781/427765 [1:38:20<321:56:02,  2.77s/it]### UNKNOWN lexcat for [ddc,ddc,ddc,dithiocarbamate,diethyl,'diethyl dithiocarbamate','calcium glutamate']|ev(-694,'C0556252','Diethyl Dithiocarbamate','Calcium glutamate',[diethyl,dithiocarbamate],[aapp],[[[1,1],[1,2],0]],[1],1,no,no,[],[234/3],0,0)|[diethyldithiocarbamate-noun,levels-noun]\n",
      "### UNKNOWN lexcat for [ddc,ddc,ddc,dithiocarbamate,diethyl,'diethyl dithiocarbamate','calcium glutamate']|ev(-604,'C0556252','Diethyl Dithiocarbamate','Calcium glutamate',[diethyl,dithiocarbamate],[aapp],[[[4,4],[1,2],0]],[4],4,no,no,[],[339/3],0,0)|[diethyldithiocarbamate-noun,levels-noun,of-prep,the-det]\n",
      "### UNKNOWN lexcat for [ddc,ddc,ddc,dithiocarbamate,diethyl,'diethyl dithiocarbamate','calcium glutamate']|ev(-604,'C0556252','Diethyl Dithiocarbamate','Calcium glutamate',[diethyl,dithiocarbamate],[aapp],[[[3,3],[1,2],0]],[3],3,no,no,[],[431/3],0,0)|[content-noun,dependent-adj,diethyldithiocarbamate-noun,on-prep]\n",
      "  2%|▏         | 9071/427765 [1:49:44<181:55:57,  1.56s/it]\n",
      "### MetaMap ERROR: MetaMap supports ASCII-only input.\n",
      "The input contains 1 non-ASCII char: \"ö\".\n",
      "Remove all non-ASCII chars from input before trying again!\n",
      "  2%|▏         | 9121/427765 [1:51:37<200:14:20,  1.72s/it]\n",
      "### MetaMap ERROR: MetaMap supports ASCII-only input.\n",
      "The input contains 1 non-ASCII char: \"ö\".\n",
      "Remove all non-ASCII chars from input before trying again!\n",
      "  2%|▏         | 9161/427765 [1:53:04<235:37:18,  2.03s/it]\n",
      "### MetaMap ERROR: MetaMap supports ASCII-only input.\n",
      "The input contains 1 non-ASCII char: \"í\".\n",
      "Remove all non-ASCII chars from input before trying again!\n",
      "  2%|▏         | 9173/427765 [1:53:33<293:29:46,  2.52s/it]"
     ]
    }
   ],
   "source": [
    "sentences['entity'] = sentences.progress_apply(lambda x: find_entity(x['text'], x['entity']), axis = 1)"
   ]
  }
 ],
 "metadata": {
  "kernelspec": {
   "display_name": "base",
   "language": "python",
   "name": "python3"
  },
  "language_info": {
   "codemirror_mode": {
    "name": "ipython",
    "version": 3
   },
   "file_extension": ".py",
   "mimetype": "text/x-python",
   "name": "python",
   "nbconvert_exporter": "python",
   "pygments_lexer": "ipython3",
   "version": "3.9.13"
  },
  "orig_nbformat": 4
 },
 "nbformat": 4,
 "nbformat_minor": 2
}
